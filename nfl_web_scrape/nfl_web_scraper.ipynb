{
 "cells": [
  {
   "cell_type": "code",
   "execution_count": 1,
   "id": "a17b2188-3788-4152-8373-87d10e310403",
   "metadata": {
    "tags": []
   },
   "outputs": [],
   "source": [
    "#Imports\n",
    "import pandas as pd\n",
    "import shap\n",
    "from sklearn.linear_model import LogisticRegression, LinearRegression, Ridge, Lasso, RANSACRegressor\n",
    "from sklearn.model_selection import cross_val_score, KFold, train_test_split, StratifiedKFold, ShuffleSplit, GridSearchCV\n",
    "import numpy as np\n",
    "from sklearn.preprocessing import StandardScaler, MinMaxScaler \n",
    "from sklearn.metrics import accuracy_score, classification_report, confusion_matrix\n",
    "import seaborn as sns\n",
    "import matplotlib.pyplot as plt\n",
    "from sklearn.neighbors import KNeighborsClassifier\n",
    "from sklearn.tree import DecisionTreeClassifier\n",
    "from sklearn.ensemble import RandomForestClassifier, RandomForestRegressor\n",
    "from sklearn.svm import SVC\n",
    "from sklearn.neural_network import MLPClassifier\n",
    "from sklearn.ensemble import GradientBoostingClassifier\n",
    "import matplotlib.dates as mdates\n",
    "import statsmodels.api as sm\n",
    "from sklearn.metrics import mean_squared_error, mean_absolute_error, r2_score, make_scorer\n",
    "import xgboost as xgb\n",
    "from PIL import Image, ImageOps"
   ]
  },
  {
   "cell_type": "code",
   "execution_count": 9,
   "id": "52a6cae3-111f-4a55-b89c-559d43dee7f8",
   "metadata": {
    "tags": []
   },
   "outputs": [
    {
     "name": "stdout",
     "output_type": "stream",
     "text": [
      "Failed to retrieve data for 2024. Error: 404 Client Error: Not Found for url: https://www.pro-football-reference.com/years/2024/coaches.htm\n",
      "Scraping: [#                                                 ] 2.86%Data for 2023 appended to all_coaches_data.csv\n",
      "Scraping: [##                                                ] 5.71%Data for 2022 appended to all_coaches_data.csv\n",
      "Scraping: [####                                              ] 8.57%Data for 2021 appended to all_coaches_data.csv\n",
      "Scraping: [#####                                             ] 11.43%Data for 2020 appended to all_coaches_data.csv\n",
      "Scraping: [#######                                           ] 14.29%Data for 2019 appended to all_coaches_data.csv\n",
      "Scraping: [########                                          ] 17.14%Data for 2018 appended to all_coaches_data.csv\n",
      "Scraping: [##########                                        ] 20.00%Data for 2017 appended to all_coaches_data.csv\n",
      "Scraping: [###########                                       ] 22.86%Data for 2016 appended to all_coaches_data.csv\n",
      "Scraping: [############                                      ] 25.71%Data for 2015 appended to all_coaches_data.csv\n",
      "Scraping: [##############                                    ] 28.57%Data for 2014 appended to all_coaches_data.csv\n",
      "Scraping: [###############                                   ] 31.43%Data for 2013 appended to all_coaches_data.csv\n",
      "Scraping: [#################                                 ] 34.29%Data for 2012 appended to all_coaches_data.csv\n",
      "Scraping: [##################                                ] 37.14%Data for 2011 appended to all_coaches_data.csv\n",
      "Scraping: [####################                              ] 40.00%Data for 2010 appended to all_coaches_data.csv\n",
      "Scraping: [#####################                             ] 42.86%Data for 2009 appended to all_coaches_data.csv\n",
      "Scraping: [######################                            ] 45.71%Data for 2008 appended to all_coaches_data.csv\n",
      "Scraping: [########################                          ] 48.57%Data for 2007 appended to all_coaches_data.csv\n",
      "Scraping: [#########################                         ] 51.43%Data for 2006 appended to all_coaches_data.csv\n",
      "Scraping: [###########################                       ] 54.29%Data for 2005 appended to all_coaches_data.csv\n",
      "Scraping: [############################                      ] 57.14%Data for 2004 appended to all_coaches_data.csv\n",
      "Scraping: [##############################                    ] 60.00%Data for 2003 appended to all_coaches_data.csv\n",
      "Scraping: [###############################                   ] 62.86%Data for 2002 appended to all_coaches_data.csv\n",
      "Scraping: [################################                  ] 65.71%Data for 2001 appended to all_coaches_data.csv\n",
      "Scraping: [##################################                ] 68.57%Data for 2000 appended to all_coaches_data.csv\n",
      "Scraping: [###################################               ] 71.43%Data for 1999 appended to all_coaches_data.csv\n",
      "Scraping: [#####################################             ] 74.29%Data for 1998 appended to all_coaches_data.csv\n",
      "Scraping: [######################################            ] 77.14%Data for 1997 appended to all_coaches_data.csv\n",
      "Scraping: [########################################          ] 80.00%Data for 1996 appended to all_coaches_data.csv\n",
      "Scraping: [#########################################         ] 82.86%Data for 1995 appended to all_coaches_data.csv\n",
      "Scraping: [##########################################        ] 85.71%Data for 1994 appended to all_coaches_data.csv\n",
      "Scraping: [############################################      ] 88.57%Data for 1993 appended to all_coaches_data.csv\n",
      "Scraping: [#############################################     ] 91.43%Data for 1992 appended to all_coaches_data.csv\n",
      "Scraping: [###############################################   ] 94.29%Data for 1991 appended to all_coaches_data.csv\n",
      "Scraping: [################################################  ] 97.14%Data for 1990 appended to all_coaches_data.csv\n",
      "Scraping: [##################################################] 100.00%\n",
      "Scrapping Done\n"
     ]
    }
   ],
   "source": [
    "import requests\n",
    "from bs4 import BeautifulSoup\n",
    "import pandas as pd\n",
    "import time\n",
    "import sys\n",
    "from pathlib import Path\n",
    "\n",
    "# Function to scrape data from a given season and append it to a CSV file\n",
    "def scrape_season_and_save(season, csv_file):\n",
    "    url = f'https://www.pro-football-reference.com/years/{season}/coaches.htm'\n",
    "    \n",
    "    try:\n",
    "        response = requests.get(url)\n",
    "        response.raise_for_status()  # Raise HTTPError for bad responses\n",
    "    except requests.exceptions.RequestException as e:\n",
    "        print(f\"Failed to retrieve data for {season}. Error: {e}\")\n",
    "        return\n",
    "\n",
    "    soup = BeautifulSoup(response.content, 'html.parser')\n",
    "    table = soup.find('table', {'id': 'coaches'})\n",
    "\n",
    "    if table:\n",
    "        df = pd.read_html(str(table))[0]\n",
    "        df['Season'] = season\n",
    "\n",
    "        if Path(csv_file).exists():\n",
    "            df.to_csv(csv_file, mode='a', header=False, index=False)\n",
    "        else:\n",
    "            df.to_csv(csv_file, header=True, index=False)\n",
    "        \n",
    "        print(f\"Data for {season} appended to {csv_file}\")\n",
    "    else:\n",
    "        print(f\"No table found for {season}\")\n",
    "\n",
    "    time.sleep(2)\n",
    "\n",
    "# Function to iterate through the list of seasons and save all data to a single CSV file\n",
    "def scrape_all_seasons_and_save(start_year, end_year, csv_file):\n",
    "    seasons = range(end_year, start_year - 1, -1)  # Reversed range\n",
    "\n",
    "    total_seasons = len(seasons)\n",
    "\n",
    "    for i, season in enumerate(seasons, 1):\n",
    "        scrape_season_and_save(season, csv_file)\n",
    "\n",
    "        # Print percentage completion bar\n",
    "        completion_percentage = (i / total_seasons) * 100\n",
    "        sys.stdout.write(f\"\\rScraping: [{'#' * int(completion_percentage // 2)}{' ' * (50 - int(completion_percentage // 2))}] {completion_percentage:.2f}%\")\n",
    "        sys.stdout.flush()\n",
    "\n",
    "    # Print \"Scrapping Done\" and clear progress bar\n",
    "    print(\"\\nScrapping Done\")\n",
    "    sys.stdout.flush()\n",
    "\n",
    "# Specify the CSV file to save all scraped data\n",
    "csv_file_path = 'all_coaches_data.csv'\n",
    "\n",
    "# Call the function to scrape all seasons from 1990 to 2023 and save all data to a single CSV file\n",
    "scrape_all_seasons_and_save(1990, 2024, csv_file_path)"
   ]
  },
  {
   "cell_type": "code",
   "execution_count": 8,
   "id": "450ccdef-17c6-437a-a64d-4b73cdbf009d",
   "metadata": {
    "tags": []
   },
   "outputs": [
    {
     "name": "stdout",
     "output_type": "stream",
     "text": [
      "Failed to retrieve data for 2024\n",
      "Scraping: [#                                                 ] 2.86%Data for 2023 appended to all_player_fantasy_data.csv\n",
      "Scraping: [##                                                ] 5.71%Data for 2022 appended to all_player_fantasy_data.csv\n",
      "Scraping: [####                                              ] 8.57%Data for 2021 appended to all_player_fantasy_data.csv\n",
      "Scraping: [#####                                             ] 11.43%Data for 2020 appended to all_player_fantasy_data.csv\n",
      "Scraping: [#######                                           ] 14.29%Data for 2019 appended to all_player_fantasy_data.csv\n",
      "Scraping: [########                                          ] 17.14%Data for 2018 appended to all_player_fantasy_data.csv\n",
      "Scraping: [##########                                        ] 20.00%Data for 2017 appended to all_player_fantasy_data.csv\n",
      "Scraping: [###########                                       ] 22.86%Data for 2016 appended to all_player_fantasy_data.csv\n",
      "Scraping: [############                                      ] 25.71%Data for 2015 appended to all_player_fantasy_data.csv\n",
      "Scraping: [##############                                    ] 28.57%Data for 2014 appended to all_player_fantasy_data.csv\n",
      "Scraping: [###############                                   ] 31.43%Data for 2013 appended to all_player_fantasy_data.csv\n",
      "Scraping: [#################                                 ] 34.29%Data for 2012 appended to all_player_fantasy_data.csv\n",
      "Scraping: [##################                                ] 37.14%Data for 2011 appended to all_player_fantasy_data.csv\n",
      "Scraping: [####################                              ] 40.00%Data for 2010 appended to all_player_fantasy_data.csv\n",
      "Scraping: [#####################                             ] 42.86%Data for 2009 appended to all_player_fantasy_data.csv\n",
      "Scraping: [######################                            ] 45.71%Data for 2008 appended to all_player_fantasy_data.csv\n",
      "Scraping: [########################                          ] 48.57%Data for 2007 appended to all_player_fantasy_data.csv\n",
      "Scraping: [#########################                         ] 51.43%Data for 2006 appended to all_player_fantasy_data.csv\n",
      "Scraping: [###########################                       ] 54.29%Data for 2005 appended to all_player_fantasy_data.csv\n",
      "Scraping: [############################                      ] 57.14%Data for 2004 appended to all_player_fantasy_data.csv\n",
      "Scraping: [##############################                    ] 60.00%Data for 2003 appended to all_player_fantasy_data.csv\n",
      "Scraping: [###############################                   ] 62.86%Data for 2002 appended to all_player_fantasy_data.csv\n",
      "Scraping: [################################                  ] 65.71%Data for 2001 appended to all_player_fantasy_data.csv\n",
      "Scraping: [##################################                ] 68.57%Data for 2000 appended to all_player_fantasy_data.csv\n",
      "Scraping: [###################################               ] 71.43%Data for 1999 appended to all_player_fantasy_data.csv\n",
      "Scraping: [#####################################             ] 74.29%Data for 1998 appended to all_player_fantasy_data.csv\n",
      "Scraping: [######################################            ] 77.14%Data for 1997 appended to all_player_fantasy_data.csv\n",
      "Scraping: [########################################          ] 80.00%Data for 1996 appended to all_player_fantasy_data.csv\n",
      "Scraping: [#########################################         ] 82.86%Data for 1995 appended to all_player_fantasy_data.csv\n",
      "Scraping: [##########################################        ] 85.71%Data for 1994 appended to all_player_fantasy_data.csv\n",
      "Scraping: [############################################      ] 88.57%Data for 1993 appended to all_player_fantasy_data.csv\n",
      "Scraping: [#############################################     ] 91.43%Data for 1992 appended to all_player_fantasy_data.csv\n",
      "Scraping: [###############################################   ] 94.29%Data for 1991 appended to all_player_fantasy_data.csv\n",
      "Scraping: [################################################  ] 97.14%Data for 1990 appended to all_player_fantasy_data.csv\n",
      "Scraping: [##################################################] 100.00%\n",
      "Scrapping Done\n"
     ]
    }
   ],
   "source": [
    "import requests\n",
    "from bs4 import BeautifulSoup\n",
    "import pandas as pd\n",
    "import time\n",
    "import sys\n",
    "from pathlib import Path\n",
    "\n",
    "def scrape_season_and_save(season, csv_file):\n",
    "    url = f'https://www.pro-football-reference.com/years/{season}/fantasy.htm'\n",
    "    response = requests.get(url)\n",
    "\n",
    "    if response.status_code == 200:\n",
    "        soup = BeautifulSoup(response.content, 'html.parser')\n",
    "        table = soup.find('table', {'id': 'fantasy'})\n",
    "\n",
    "        if table:\n",
    "            # Extract data from the body of the table\n",
    "            rows = table.find('tbody').find_all('tr')\n",
    "            data = []\n",
    "\n",
    "            for row in rows:\n",
    "                cols = row.find_all(['th', 'td'])\n",
    "                cols = [col.text.strip() for col in cols]\n",
    "                data.append(cols)\n",
    "\n",
    "            # Create a DataFrame from the extracted data\n",
    "            df = pd.DataFrame(data)\n",
    "\n",
    "            # Add a new column for the season\n",
    "            df['Season'] = season\n",
    "\n",
    "            # Append the data to the CSV file\n",
    "            if Path(csv_file).exists():\n",
    "                df.to_csv(csv_file, mode='a', header=False, index=False)\n",
    "            else:\n",
    "                df.to_csv(csv_file, header=True, index=False)\n",
    "\n",
    "            print(f\"Data for {season} appended to {csv_file}\")\n",
    "        else:\n",
    "            print(f\"No table found for {season}\")\n",
    "    else:\n",
    "        print(f\"Failed to retrieve data for {season}\")\n",
    "\n",
    "    time.sleep(5)\n",
    "\n",
    "def scrape_all_seasons_and_save(start_year, end_year, csv_file):\n",
    "    seasons = range(end_year, start_year - 1, -1)\n",
    "    total_seasons = len(seasons)\n",
    "\n",
    "    for i, season in enumerate(seasons, 1):\n",
    "        scrape_season_and_save(season, csv_file)\n",
    "\n",
    "        completion_percentage = (i / total_seasons) * 100\n",
    "        sys.stdout.write(f\"\\rScraping: [{'#' * int(completion_percentage // 2)}{' ' * (50 - int(completion_percentage // 2))}] {completion_percentage:.2f}%\")\n",
    "        sys.stdout.flush()\n",
    "\n",
    "    print(\"\\nScrapping Done\")\n",
    "    sys.stdout.flush()\n",
    "\n",
    "csv_file_path = 'all_player_fantasy_data.csv'\n",
    "scrape_all_seasons_and_save(1990, 2024, csv_file_path)"
   ]
  },
  {
   "cell_type": "code",
   "execution_count": 4,
   "id": "a9aad9b8-dfae-4cd1-89c6-d7cb77a92ff8",
   "metadata": {
    "tags": []
   },
   "outputs": [
    {
     "name": "stdout",
     "output_type": "stream",
     "text": [
      "Failed to retrieve data for 2024. Error: 404 Client Error: Not Found for url: https://www.pro-football-reference.com/years/2024/passing.htm\n",
      "Scraping: [#                                                 ] 2.86%"
     ]
    },
    {
     "name": "stderr",
     "output_type": "stream",
     "text": [
      "Passing literal html to 'read_html' is deprecated and will be removed in a future version. To read from a literal string, wrap it in a 'StringIO' object.\n"
     ]
    },
    {
     "name": "stdout",
     "output_type": "stream",
     "text": [
      "Data for 2023 appended to all_player_passing_data.csv\n",
      "Scraping: [##                                                ] 5.71%"
     ]
    },
    {
     "name": "stderr",
     "output_type": "stream",
     "text": [
      "Passing literal html to 'read_html' is deprecated and will be removed in a future version. To read from a literal string, wrap it in a 'StringIO' object.\n"
     ]
    },
    {
     "name": "stdout",
     "output_type": "stream",
     "text": [
      "Data for 2022 appended to all_player_passing_data.csv\n",
      "Scraping: [####                                              ] 8.57%"
     ]
    },
    {
     "name": "stderr",
     "output_type": "stream",
     "text": [
      "Passing literal html to 'read_html' is deprecated and will be removed in a future version. To read from a literal string, wrap it in a 'StringIO' object.\n"
     ]
    },
    {
     "name": "stdout",
     "output_type": "stream",
     "text": [
      "Data for 2021 appended to all_player_passing_data.csv\n",
      "Scraping: [#####                                             ] 11.43%"
     ]
    },
    {
     "name": "stderr",
     "output_type": "stream",
     "text": [
      "Passing literal html to 'read_html' is deprecated and will be removed in a future version. To read from a literal string, wrap it in a 'StringIO' object.\n"
     ]
    },
    {
     "name": "stdout",
     "output_type": "stream",
     "text": [
      "Data for 2020 appended to all_player_passing_data.csv\n",
      "Scraping: [#######                                           ] 14.29%"
     ]
    },
    {
     "name": "stderr",
     "output_type": "stream",
     "text": [
      "Passing literal html to 'read_html' is deprecated and will be removed in a future version. To read from a literal string, wrap it in a 'StringIO' object.\n"
     ]
    },
    {
     "name": "stdout",
     "output_type": "stream",
     "text": [
      "Data for 2019 appended to all_player_passing_data.csv\n",
      "Scraping: [########                                          ] 17.14%"
     ]
    },
    {
     "name": "stderr",
     "output_type": "stream",
     "text": [
      "Passing literal html to 'read_html' is deprecated and will be removed in a future version. To read from a literal string, wrap it in a 'StringIO' object.\n"
     ]
    },
    {
     "name": "stdout",
     "output_type": "stream",
     "text": [
      "Data for 2018 appended to all_player_passing_data.csv\n",
      "Scraping: [##########                                        ] 20.00%"
     ]
    },
    {
     "name": "stderr",
     "output_type": "stream",
     "text": [
      "Passing literal html to 'read_html' is deprecated and will be removed in a future version. To read from a literal string, wrap it in a 'StringIO' object.\n"
     ]
    },
    {
     "name": "stdout",
     "output_type": "stream",
     "text": [
      "Data for 2017 appended to all_player_passing_data.csv\n",
      "Scraping: [###########                                       ] 22.86%"
     ]
    },
    {
     "name": "stderr",
     "output_type": "stream",
     "text": [
      "Passing literal html to 'read_html' is deprecated and will be removed in a future version. To read from a literal string, wrap it in a 'StringIO' object.\n"
     ]
    },
    {
     "name": "stdout",
     "output_type": "stream",
     "text": [
      "Data for 2016 appended to all_player_passing_data.csv\n",
      "Scraping: [############                                      ] 25.71%"
     ]
    },
    {
     "name": "stderr",
     "output_type": "stream",
     "text": [
      "Passing literal html to 'read_html' is deprecated and will be removed in a future version. To read from a literal string, wrap it in a 'StringIO' object.\n"
     ]
    },
    {
     "name": "stdout",
     "output_type": "stream",
     "text": [
      "Data for 2015 appended to all_player_passing_data.csv\n",
      "Scraping: [##############                                    ] 28.57%"
     ]
    },
    {
     "name": "stderr",
     "output_type": "stream",
     "text": [
      "Passing literal html to 'read_html' is deprecated and will be removed in a future version. To read from a literal string, wrap it in a 'StringIO' object.\n"
     ]
    },
    {
     "name": "stdout",
     "output_type": "stream",
     "text": [
      "Data for 2014 appended to all_player_passing_data.csv\n",
      "Scraping: [###############                                   ] 31.43%"
     ]
    },
    {
     "name": "stderr",
     "output_type": "stream",
     "text": [
      "Passing literal html to 'read_html' is deprecated and will be removed in a future version. To read from a literal string, wrap it in a 'StringIO' object.\n"
     ]
    },
    {
     "name": "stdout",
     "output_type": "stream",
     "text": [
      "Data for 2013 appended to all_player_passing_data.csv\n",
      "Scraping: [#################                                 ] 34.29%"
     ]
    },
    {
     "name": "stderr",
     "output_type": "stream",
     "text": [
      "Passing literal html to 'read_html' is deprecated and will be removed in a future version. To read from a literal string, wrap it in a 'StringIO' object.\n"
     ]
    },
    {
     "name": "stdout",
     "output_type": "stream",
     "text": [
      "Data for 2012 appended to all_player_passing_data.csv\n",
      "Scraping: [##################                                ] 37.14%"
     ]
    },
    {
     "name": "stderr",
     "output_type": "stream",
     "text": [
      "Passing literal html to 'read_html' is deprecated and will be removed in a future version. To read from a literal string, wrap it in a 'StringIO' object.\n"
     ]
    },
    {
     "name": "stdout",
     "output_type": "stream",
     "text": [
      "Data for 2011 appended to all_player_passing_data.csv\n",
      "Scraping: [####################                              ] 40.00%"
     ]
    },
    {
     "name": "stderr",
     "output_type": "stream",
     "text": [
      "Passing literal html to 'read_html' is deprecated and will be removed in a future version. To read from a literal string, wrap it in a 'StringIO' object.\n"
     ]
    },
    {
     "name": "stdout",
     "output_type": "stream",
     "text": [
      "Data for 2010 appended to all_player_passing_data.csv\n",
      "Scraping: [#####################                             ] 42.86%"
     ]
    },
    {
     "name": "stderr",
     "output_type": "stream",
     "text": [
      "Passing literal html to 'read_html' is deprecated and will be removed in a future version. To read from a literal string, wrap it in a 'StringIO' object.\n"
     ]
    },
    {
     "name": "stdout",
     "output_type": "stream",
     "text": [
      "Data for 2009 appended to all_player_passing_data.csv\n",
      "Scraping: [######################                            ] 45.71%"
     ]
    },
    {
     "name": "stderr",
     "output_type": "stream",
     "text": [
      "Passing literal html to 'read_html' is deprecated and will be removed in a future version. To read from a literal string, wrap it in a 'StringIO' object.\n"
     ]
    },
    {
     "name": "stdout",
     "output_type": "stream",
     "text": [
      "Data for 2008 appended to all_player_passing_data.csv\n",
      "Scraping: [########################                          ] 48.57%"
     ]
    },
    {
     "name": "stderr",
     "output_type": "stream",
     "text": [
      "Passing literal html to 'read_html' is deprecated and will be removed in a future version. To read from a literal string, wrap it in a 'StringIO' object.\n"
     ]
    },
    {
     "name": "stdout",
     "output_type": "stream",
     "text": [
      "Data for 2007 appended to all_player_passing_data.csv\n",
      "Scraping: [#########################                         ] 51.43%"
     ]
    },
    {
     "name": "stderr",
     "output_type": "stream",
     "text": [
      "Passing literal html to 'read_html' is deprecated and will be removed in a future version. To read from a literal string, wrap it in a 'StringIO' object.\n"
     ]
    },
    {
     "name": "stdout",
     "output_type": "stream",
     "text": [
      "Data for 2006 appended to all_player_passing_data.csv\n",
      "Scraping: [###########################                       ] 54.29%"
     ]
    },
    {
     "name": "stderr",
     "output_type": "stream",
     "text": [
      "Passing literal html to 'read_html' is deprecated and will be removed in a future version. To read from a literal string, wrap it in a 'StringIO' object.\n"
     ]
    },
    {
     "name": "stdout",
     "output_type": "stream",
     "text": [
      "Data for 2005 appended to all_player_passing_data.csv\n",
      "Scraping: [############################                      ] 57.14%"
     ]
    },
    {
     "name": "stderr",
     "output_type": "stream",
     "text": [
      "Passing literal html to 'read_html' is deprecated and will be removed in a future version. To read from a literal string, wrap it in a 'StringIO' object.\n"
     ]
    },
    {
     "name": "stdout",
     "output_type": "stream",
     "text": [
      "Data for 2004 appended to all_player_passing_data.csv\n",
      "Scraping: [##############################                    ] 60.00%"
     ]
    },
    {
     "name": "stderr",
     "output_type": "stream",
     "text": [
      "Passing literal html to 'read_html' is deprecated and will be removed in a future version. To read from a literal string, wrap it in a 'StringIO' object.\n"
     ]
    },
    {
     "name": "stdout",
     "output_type": "stream",
     "text": [
      "Data for 2003 appended to all_player_passing_data.csv\n",
      "Scraping: [###############################                   ] 62.86%"
     ]
    },
    {
     "name": "stderr",
     "output_type": "stream",
     "text": [
      "Passing literal html to 'read_html' is deprecated and will be removed in a future version. To read from a literal string, wrap it in a 'StringIO' object.\n"
     ]
    },
    {
     "name": "stdout",
     "output_type": "stream",
     "text": [
      "Data for 2002 appended to all_player_passing_data.csv\n",
      "Scraping: [################################                  ] 65.71%"
     ]
    },
    {
     "name": "stderr",
     "output_type": "stream",
     "text": [
      "Passing literal html to 'read_html' is deprecated and will be removed in a future version. To read from a literal string, wrap it in a 'StringIO' object.\n"
     ]
    },
    {
     "name": "stdout",
     "output_type": "stream",
     "text": [
      "Data for 2001 appended to all_player_passing_data.csv\n",
      "Scraping: [##################################                ] 68.57%"
     ]
    },
    {
     "name": "stderr",
     "output_type": "stream",
     "text": [
      "Passing literal html to 'read_html' is deprecated and will be removed in a future version. To read from a literal string, wrap it in a 'StringIO' object.\n"
     ]
    },
    {
     "name": "stdout",
     "output_type": "stream",
     "text": [
      "Data for 2000 appended to all_player_passing_data.csv\n",
      "Scraping: [###################################               ] 71.43%"
     ]
    },
    {
     "name": "stderr",
     "output_type": "stream",
     "text": [
      "Passing literal html to 'read_html' is deprecated and will be removed in a future version. To read from a literal string, wrap it in a 'StringIO' object.\n"
     ]
    },
    {
     "name": "stdout",
     "output_type": "stream",
     "text": [
      "Data for 1999 appended to all_player_passing_data.csv\n",
      "Scraping: [#####################################             ] 74.29%"
     ]
    },
    {
     "name": "stderr",
     "output_type": "stream",
     "text": [
      "Passing literal html to 'read_html' is deprecated and will be removed in a future version. To read from a literal string, wrap it in a 'StringIO' object.\n"
     ]
    },
    {
     "name": "stdout",
     "output_type": "stream",
     "text": [
      "Data for 1998 appended to all_player_passing_data.csv\n",
      "Scraping: [######################################            ] 77.14%"
     ]
    },
    {
     "name": "stderr",
     "output_type": "stream",
     "text": [
      "Passing literal html to 'read_html' is deprecated and will be removed in a future version. To read from a literal string, wrap it in a 'StringIO' object.\n"
     ]
    },
    {
     "name": "stdout",
     "output_type": "stream",
     "text": [
      "Data for 1997 appended to all_player_passing_data.csv\n",
      "Scraping: [########################################          ] 80.00%"
     ]
    },
    {
     "name": "stderr",
     "output_type": "stream",
     "text": [
      "Passing literal html to 'read_html' is deprecated and will be removed in a future version. To read from a literal string, wrap it in a 'StringIO' object.\n"
     ]
    },
    {
     "name": "stdout",
     "output_type": "stream",
     "text": [
      "Data for 1996 appended to all_player_passing_data.csv\n",
      "Scraping: [#########################################         ] 82.86%"
     ]
    },
    {
     "name": "stderr",
     "output_type": "stream",
     "text": [
      "Passing literal html to 'read_html' is deprecated and will be removed in a future version. To read from a literal string, wrap it in a 'StringIO' object.\n"
     ]
    },
    {
     "name": "stdout",
     "output_type": "stream",
     "text": [
      "Data for 1995 appended to all_player_passing_data.csv\n",
      "Scraping: [##########################################        ] 85.71%"
     ]
    },
    {
     "name": "stderr",
     "output_type": "stream",
     "text": [
      "Passing literal html to 'read_html' is deprecated and will be removed in a future version. To read from a literal string, wrap it in a 'StringIO' object.\n"
     ]
    },
    {
     "name": "stdout",
     "output_type": "stream",
     "text": [
      "Data for 1994 appended to all_player_passing_data.csv\n",
      "Scraping: [############################################      ] 88.57%"
     ]
    },
    {
     "name": "stderr",
     "output_type": "stream",
     "text": [
      "Passing literal html to 'read_html' is deprecated and will be removed in a future version. To read from a literal string, wrap it in a 'StringIO' object.\n"
     ]
    },
    {
     "name": "stdout",
     "output_type": "stream",
     "text": [
      "Data for 1993 appended to all_player_passing_data.csv\n",
      "Scraping: [#############################################     ] 91.43%"
     ]
    },
    {
     "name": "stderr",
     "output_type": "stream",
     "text": [
      "Passing literal html to 'read_html' is deprecated and will be removed in a future version. To read from a literal string, wrap it in a 'StringIO' object.\n"
     ]
    },
    {
     "name": "stdout",
     "output_type": "stream",
     "text": [
      "Data for 1992 appended to all_player_passing_data.csv\n",
      "Scraping: [###############################################   ] 94.29%"
     ]
    },
    {
     "name": "stderr",
     "output_type": "stream",
     "text": [
      "Passing literal html to 'read_html' is deprecated and will be removed in a future version. To read from a literal string, wrap it in a 'StringIO' object.\n"
     ]
    },
    {
     "name": "stdout",
     "output_type": "stream",
     "text": [
      "Data for 1991 appended to all_player_passing_data.csv\n",
      "Scraping: [################################################  ] 97.14%"
     ]
    },
    {
     "name": "stderr",
     "output_type": "stream",
     "text": [
      "Passing literal html to 'read_html' is deprecated and will be removed in a future version. To read from a literal string, wrap it in a 'StringIO' object.\n"
     ]
    },
    {
     "name": "stdout",
     "output_type": "stream",
     "text": [
      "Data for 1990 appended to all_player_passing_data.csv\n",
      "Scraping: [##################################################] 100.00%\n",
      "Scrapping Done\n"
     ]
    }
   ],
   "source": [
    "import requests\n",
    "from bs4 import BeautifulSoup\n",
    "import pandas as pd\n",
    "import time\n",
    "import sys\n",
    "from pathlib import Path\n",
    "\n",
    "# Function to scrape data from a given season and append it to a CSV file\n",
    "def scrape_season_and_save(season, csv_file):\n",
    "    url = f'https://www.pro-football-reference.com/years/{season}/passing.htm'\n",
    "    \n",
    "    try:\n",
    "        response = requests.get(url)\n",
    "        response.raise_for_status()  # Raise HTTPError for bad responses\n",
    "    except requests.exceptions.RequestException as e:\n",
    "        print(f\"Failed to retrieve data for {season}. Error: {e}\")\n",
    "        return\n",
    "\n",
    "    soup = BeautifulSoup(response.content, 'html.parser')\n",
    "    table = soup.find('table', {'id': 'passing'})\n",
    "\n",
    "    if table:\n",
    "        df = pd.read_html(str(table))[0]\n",
    "        df['Season'] = season\n",
    "\n",
    "        if Path(csv_file).exists():\n",
    "            df.to_csv(csv_file, mode='a', header=False, index=False)\n",
    "        else:\n",
    "            df.to_csv(csv_file, header=True, index=False)\n",
    "        \n",
    "        print(f\"Data for {season} appended to {csv_file}\")\n",
    "    else:\n",
    "        print(f\"No table found for {season}\")\n",
    "\n",
    "    time.sleep(5)\n",
    "\n",
    "# Function to iterate through the list of seasons and save all data to a single CSV file\n",
    "def scrape_all_seasons_and_save(start_year, end_year, csv_file):\n",
    "    seasons = range(end_year, start_year - 1, -1)  # Reversed range\n",
    "\n",
    "    total_seasons = len(seasons)\n",
    "\n",
    "    for i, season in enumerate(seasons, 1):\n",
    "        scrape_season_and_save(season, csv_file)\n",
    "\n",
    "        # Print percentage completion bar\n",
    "        completion_percentage = (i / total_seasons) * 100\n",
    "        sys.stdout.write(f\"\\rScraping: [{'#' * int(completion_percentage // 2)}{' ' * (50 - int(completion_percentage // 2))}] {completion_percentage:.2f}%\")\n",
    "        sys.stdout.flush()\n",
    "\n",
    "    # Print \"Scrapping Done\" and clear progress bar\n",
    "    print(\"\\nScrapping Done\")\n",
    "    sys.stdout.flush()\n",
    "\n",
    "# Specify the CSV file to save all scraped data\n",
    "csv_file_path = 'all_player_passing_data.csv'\n",
    "\n",
    "# Call the function to scrape all seasons from 1990 to 2023 and save all data to a single CSV file\n",
    "scrape_all_seasons_and_save(1990, 2024, csv_file_path)"
   ]
  },
  {
   "cell_type": "code",
   "execution_count": 4,
   "id": "c6643ab8-e42f-4cb6-99e5-f8996a04aa65",
   "metadata": {
    "tags": []
   },
   "outputs": [
    {
     "name": "stdout",
     "output_type": "stream",
     "text": [
      "Failed to retrieve data for 2024. Error: 429 Client Error: Too Many Requests for url: https://www.pro-football-reference.com/years/2024/rushing.htm\n",
      "Scraping: [#                                                 ] 2.86%Failed to retrieve data for 2023. Error: 429 Client Error: Too Many Requests for url: https://www.pro-football-reference.com/years/2023/rushing.htm\n",
      "Scraping: [##                                                ] 5.71%Failed to retrieve data for 2022. Error: 429 Client Error: Too Many Requests for url: https://www.pro-football-reference.com/years/2022/rushing.htm\n",
      "Scraping: [####                                              ] 8.57%Failed to retrieve data for 2021. Error: 429 Client Error: Too Many Requests for url: https://www.pro-football-reference.com/years/2021/rushing.htm\n",
      "Scraping: [#####                                             ] 11.43%Failed to retrieve data for 2020. Error: 429 Client Error: Too Many Requests for url: https://www.pro-football-reference.com/years/2020/rushing.htm\n",
      "Scraping: [#######                                           ] 14.29%Failed to retrieve data for 2019. Error: 429 Client Error: Too Many Requests for url: https://www.pro-football-reference.com/years/2019/rushing.htm\n",
      "Scraping: [########                                          ] 17.14%"
     ]
    },
    {
     "ename": "KeyboardInterrupt",
     "evalue": "",
     "output_type": "error",
     "traceback": [
      "\u001b[1;31m---------------------------------------------------------------------------\u001b[0m",
      "\u001b[1;31mKeyboardInterrupt\u001b[0m                         Traceback (most recent call last)",
      "Cell \u001b[1;32mIn[4], line 59\u001b[0m\n\u001b[0;32m     56\u001b[0m csv_file_path \u001b[38;5;241m=\u001b[39m \u001b[38;5;124m'\u001b[39m\u001b[38;5;124mall_player_rushing_data.csv\u001b[39m\u001b[38;5;124m'\u001b[39m\n\u001b[0;32m     58\u001b[0m \u001b[38;5;66;03m# Call the function to scrape all seasons from 1990 to 2023 and save all data to a single CSV file\u001b[39;00m\n\u001b[1;32m---> 59\u001b[0m scrape_all_seasons_and_save(\u001b[38;5;241m1990\u001b[39m, \u001b[38;5;241m2024\u001b[39m, csv_file_path)\n",
      "Cell \u001b[1;32mIn[4], line 44\u001b[0m, in \u001b[0;36mscrape_all_seasons_and_save\u001b[1;34m(start_year, end_year, csv_file)\u001b[0m\n\u001b[0;32m     41\u001b[0m total_seasons \u001b[38;5;241m=\u001b[39m \u001b[38;5;28mlen\u001b[39m(seasons)\n\u001b[0;32m     43\u001b[0m \u001b[38;5;28;01mfor\u001b[39;00m i, season \u001b[38;5;129;01min\u001b[39;00m \u001b[38;5;28menumerate\u001b[39m(seasons, \u001b[38;5;241m1\u001b[39m):\n\u001b[1;32m---> 44\u001b[0m     scrape_season_and_save(season, csv_file)\n\u001b[0;32m     46\u001b[0m     \u001b[38;5;66;03m# Print percentage completion bar\u001b[39;00m\n\u001b[0;32m     47\u001b[0m     completion_percentage \u001b[38;5;241m=\u001b[39m (i \u001b[38;5;241m/\u001b[39m total_seasons) \u001b[38;5;241m*\u001b[39m \u001b[38;5;241m100\u001b[39m\n",
      "Cell \u001b[1;32mIn[4], line 13\u001b[0m, in \u001b[0;36mscrape_season_and_save\u001b[1;34m(season, csv_file)\u001b[0m\n\u001b[0;32m     10\u001b[0m url \u001b[38;5;241m=\u001b[39m \u001b[38;5;124mf\u001b[39m\u001b[38;5;124m'\u001b[39m\u001b[38;5;124mhttps://www.pro-football-reference.com/years/\u001b[39m\u001b[38;5;132;01m{\u001b[39;00mseason\u001b[38;5;132;01m}\u001b[39;00m\u001b[38;5;124m/rushing.htm\u001b[39m\u001b[38;5;124m'\u001b[39m\n\u001b[0;32m     12\u001b[0m \u001b[38;5;28;01mtry\u001b[39;00m:\n\u001b[1;32m---> 13\u001b[0m     response \u001b[38;5;241m=\u001b[39m requests\u001b[38;5;241m.\u001b[39mget(url)\n\u001b[0;32m     14\u001b[0m     response\u001b[38;5;241m.\u001b[39mraise_for_status()  \u001b[38;5;66;03m# Raise HTTPError for bad responses\u001b[39;00m\n\u001b[0;32m     15\u001b[0m \u001b[38;5;28;01mexcept\u001b[39;00m requests\u001b[38;5;241m.\u001b[39mexceptions\u001b[38;5;241m.\u001b[39mRequestException \u001b[38;5;28;01mas\u001b[39;00m e:\n",
      "File \u001b[1;32m~\\Anaconda_Files\\Lib\\site-packages\\requests\\api.py:73\u001b[0m, in \u001b[0;36mget\u001b[1;34m(url, params, **kwargs)\u001b[0m\n\u001b[0;32m     62\u001b[0m \u001b[38;5;28;01mdef\u001b[39;00m \u001b[38;5;21mget\u001b[39m(url, params\u001b[38;5;241m=\u001b[39m\u001b[38;5;28;01mNone\u001b[39;00m, \u001b[38;5;241m*\u001b[39m\u001b[38;5;241m*\u001b[39mkwargs):\n\u001b[0;32m     63\u001b[0m \u001b[38;5;250m    \u001b[39m\u001b[38;5;124mr\u001b[39m\u001b[38;5;124;03m\"\"\"Sends a GET request.\u001b[39;00m\n\u001b[0;32m     64\u001b[0m \n\u001b[0;32m     65\u001b[0m \u001b[38;5;124;03m    :param url: URL for the new :class:`Request` object.\u001b[39;00m\n\u001b[1;32m   (...)\u001b[0m\n\u001b[0;32m     70\u001b[0m \u001b[38;5;124;03m    :rtype: requests.Response\u001b[39;00m\n\u001b[0;32m     71\u001b[0m \u001b[38;5;124;03m    \"\"\"\u001b[39;00m\n\u001b[1;32m---> 73\u001b[0m     \u001b[38;5;28;01mreturn\u001b[39;00m request(\u001b[38;5;124m\"\u001b[39m\u001b[38;5;124mget\u001b[39m\u001b[38;5;124m\"\u001b[39m, url, params\u001b[38;5;241m=\u001b[39mparams, \u001b[38;5;241m*\u001b[39m\u001b[38;5;241m*\u001b[39mkwargs)\n",
      "File \u001b[1;32m~\\Anaconda_Files\\Lib\\site-packages\\requests\\api.py:59\u001b[0m, in \u001b[0;36mrequest\u001b[1;34m(method, url, **kwargs)\u001b[0m\n\u001b[0;32m     55\u001b[0m \u001b[38;5;66;03m# By using the 'with' statement we are sure the session is closed, thus we\u001b[39;00m\n\u001b[0;32m     56\u001b[0m \u001b[38;5;66;03m# avoid leaving sockets open which can trigger a ResourceWarning in some\u001b[39;00m\n\u001b[0;32m     57\u001b[0m \u001b[38;5;66;03m# cases, and look like a memory leak in others.\u001b[39;00m\n\u001b[0;32m     58\u001b[0m \u001b[38;5;28;01mwith\u001b[39;00m sessions\u001b[38;5;241m.\u001b[39mSession() \u001b[38;5;28;01mas\u001b[39;00m session:\n\u001b[1;32m---> 59\u001b[0m     \u001b[38;5;28;01mreturn\u001b[39;00m session\u001b[38;5;241m.\u001b[39mrequest(method\u001b[38;5;241m=\u001b[39mmethod, url\u001b[38;5;241m=\u001b[39murl, \u001b[38;5;241m*\u001b[39m\u001b[38;5;241m*\u001b[39mkwargs)\n",
      "File \u001b[1;32m~\\Anaconda_Files\\Lib\\site-packages\\requests\\sessions.py:589\u001b[0m, in \u001b[0;36mSession.request\u001b[1;34m(self, method, url, params, data, headers, cookies, files, auth, timeout, allow_redirects, proxies, hooks, stream, verify, cert, json)\u001b[0m\n\u001b[0;32m    584\u001b[0m send_kwargs \u001b[38;5;241m=\u001b[39m {\n\u001b[0;32m    585\u001b[0m     \u001b[38;5;124m\"\u001b[39m\u001b[38;5;124mtimeout\u001b[39m\u001b[38;5;124m\"\u001b[39m: timeout,\n\u001b[0;32m    586\u001b[0m     \u001b[38;5;124m\"\u001b[39m\u001b[38;5;124mallow_redirects\u001b[39m\u001b[38;5;124m\"\u001b[39m: allow_redirects,\n\u001b[0;32m    587\u001b[0m }\n\u001b[0;32m    588\u001b[0m send_kwargs\u001b[38;5;241m.\u001b[39mupdate(settings)\n\u001b[1;32m--> 589\u001b[0m resp \u001b[38;5;241m=\u001b[39m \u001b[38;5;28mself\u001b[39m\u001b[38;5;241m.\u001b[39msend(prep, \u001b[38;5;241m*\u001b[39m\u001b[38;5;241m*\u001b[39msend_kwargs)\n\u001b[0;32m    591\u001b[0m \u001b[38;5;28;01mreturn\u001b[39;00m resp\n",
      "File \u001b[1;32m~\\Anaconda_Files\\Lib\\site-packages\\requests\\sessions.py:703\u001b[0m, in \u001b[0;36mSession.send\u001b[1;34m(self, request, **kwargs)\u001b[0m\n\u001b[0;32m    700\u001b[0m start \u001b[38;5;241m=\u001b[39m preferred_clock()\n\u001b[0;32m    702\u001b[0m \u001b[38;5;66;03m# Send the request\u001b[39;00m\n\u001b[1;32m--> 703\u001b[0m r \u001b[38;5;241m=\u001b[39m adapter\u001b[38;5;241m.\u001b[39msend(request, \u001b[38;5;241m*\u001b[39m\u001b[38;5;241m*\u001b[39mkwargs)\n\u001b[0;32m    705\u001b[0m \u001b[38;5;66;03m# Total elapsed time of the request (approximately)\u001b[39;00m\n\u001b[0;32m    706\u001b[0m elapsed \u001b[38;5;241m=\u001b[39m preferred_clock() \u001b[38;5;241m-\u001b[39m start\n",
      "File \u001b[1;32m~\\Anaconda_Files\\Lib\\site-packages\\requests\\adapters.py:486\u001b[0m, in \u001b[0;36mHTTPAdapter.send\u001b[1;34m(self, request, stream, timeout, verify, cert, proxies)\u001b[0m\n\u001b[0;32m    483\u001b[0m     timeout \u001b[38;5;241m=\u001b[39m TimeoutSauce(connect\u001b[38;5;241m=\u001b[39mtimeout, read\u001b[38;5;241m=\u001b[39mtimeout)\n\u001b[0;32m    485\u001b[0m \u001b[38;5;28;01mtry\u001b[39;00m:\n\u001b[1;32m--> 486\u001b[0m     resp \u001b[38;5;241m=\u001b[39m conn\u001b[38;5;241m.\u001b[39murlopen(\n\u001b[0;32m    487\u001b[0m         method\u001b[38;5;241m=\u001b[39mrequest\u001b[38;5;241m.\u001b[39mmethod,\n\u001b[0;32m    488\u001b[0m         url\u001b[38;5;241m=\u001b[39murl,\n\u001b[0;32m    489\u001b[0m         body\u001b[38;5;241m=\u001b[39mrequest\u001b[38;5;241m.\u001b[39mbody,\n\u001b[0;32m    490\u001b[0m         headers\u001b[38;5;241m=\u001b[39mrequest\u001b[38;5;241m.\u001b[39mheaders,\n\u001b[0;32m    491\u001b[0m         redirect\u001b[38;5;241m=\u001b[39m\u001b[38;5;28;01mFalse\u001b[39;00m,\n\u001b[0;32m    492\u001b[0m         assert_same_host\u001b[38;5;241m=\u001b[39m\u001b[38;5;28;01mFalse\u001b[39;00m,\n\u001b[0;32m    493\u001b[0m         preload_content\u001b[38;5;241m=\u001b[39m\u001b[38;5;28;01mFalse\u001b[39;00m,\n\u001b[0;32m    494\u001b[0m         decode_content\u001b[38;5;241m=\u001b[39m\u001b[38;5;28;01mFalse\u001b[39;00m,\n\u001b[0;32m    495\u001b[0m         retries\u001b[38;5;241m=\u001b[39m\u001b[38;5;28mself\u001b[39m\u001b[38;5;241m.\u001b[39mmax_retries,\n\u001b[0;32m    496\u001b[0m         timeout\u001b[38;5;241m=\u001b[39mtimeout,\n\u001b[0;32m    497\u001b[0m         chunked\u001b[38;5;241m=\u001b[39mchunked,\n\u001b[0;32m    498\u001b[0m     )\n\u001b[0;32m    500\u001b[0m \u001b[38;5;28;01mexcept\u001b[39;00m (ProtocolError, \u001b[38;5;167;01mOSError\u001b[39;00m) \u001b[38;5;28;01mas\u001b[39;00m err:\n\u001b[0;32m    501\u001b[0m     \u001b[38;5;28;01mraise\u001b[39;00m \u001b[38;5;167;01mConnectionError\u001b[39;00m(err, request\u001b[38;5;241m=\u001b[39mrequest)\n",
      "File \u001b[1;32m~\\Anaconda_Files\\Lib\\site-packages\\urllib3\\connectionpool.py:714\u001b[0m, in \u001b[0;36mHTTPConnectionPool.urlopen\u001b[1;34m(self, method, url, body, headers, retries, redirect, assert_same_host, timeout, pool_timeout, release_conn, chunked, body_pos, **response_kw)\u001b[0m\n\u001b[0;32m    711\u001b[0m     \u001b[38;5;28mself\u001b[39m\u001b[38;5;241m.\u001b[39m_prepare_proxy(conn)\n\u001b[0;32m    713\u001b[0m \u001b[38;5;66;03m# Make the request on the httplib connection object.\u001b[39;00m\n\u001b[1;32m--> 714\u001b[0m httplib_response \u001b[38;5;241m=\u001b[39m \u001b[38;5;28mself\u001b[39m\u001b[38;5;241m.\u001b[39m_make_request(\n\u001b[0;32m    715\u001b[0m     conn,\n\u001b[0;32m    716\u001b[0m     method,\n\u001b[0;32m    717\u001b[0m     url,\n\u001b[0;32m    718\u001b[0m     timeout\u001b[38;5;241m=\u001b[39mtimeout_obj,\n\u001b[0;32m    719\u001b[0m     body\u001b[38;5;241m=\u001b[39mbody,\n\u001b[0;32m    720\u001b[0m     headers\u001b[38;5;241m=\u001b[39mheaders,\n\u001b[0;32m    721\u001b[0m     chunked\u001b[38;5;241m=\u001b[39mchunked,\n\u001b[0;32m    722\u001b[0m )\n\u001b[0;32m    724\u001b[0m \u001b[38;5;66;03m# If we're going to release the connection in ``finally:``, then\u001b[39;00m\n\u001b[0;32m    725\u001b[0m \u001b[38;5;66;03m# the response doesn't need to know about the connection. Otherwise\u001b[39;00m\n\u001b[0;32m    726\u001b[0m \u001b[38;5;66;03m# it will also try to release it and we'll have a double-release\u001b[39;00m\n\u001b[0;32m    727\u001b[0m \u001b[38;5;66;03m# mess.\u001b[39;00m\n\u001b[0;32m    728\u001b[0m response_conn \u001b[38;5;241m=\u001b[39m conn \u001b[38;5;28;01mif\u001b[39;00m \u001b[38;5;129;01mnot\u001b[39;00m release_conn \u001b[38;5;28;01melse\u001b[39;00m \u001b[38;5;28;01mNone\u001b[39;00m\n",
      "File \u001b[1;32m~\\Anaconda_Files\\Lib\\site-packages\\urllib3\\connectionpool.py:466\u001b[0m, in \u001b[0;36mHTTPConnectionPool._make_request\u001b[1;34m(self, conn, method, url, timeout, chunked, **httplib_request_kw)\u001b[0m\n\u001b[0;32m    461\u001b[0m             httplib_response \u001b[38;5;241m=\u001b[39m conn\u001b[38;5;241m.\u001b[39mgetresponse()\n\u001b[0;32m    462\u001b[0m         \u001b[38;5;28;01mexcept\u001b[39;00m \u001b[38;5;167;01mBaseException\u001b[39;00m \u001b[38;5;28;01mas\u001b[39;00m e:\n\u001b[0;32m    463\u001b[0m             \u001b[38;5;66;03m# Remove the TypeError from the exception chain in\u001b[39;00m\n\u001b[0;32m    464\u001b[0m             \u001b[38;5;66;03m# Python 3 (including for exceptions like SystemExit).\u001b[39;00m\n\u001b[0;32m    465\u001b[0m             \u001b[38;5;66;03m# Otherwise it looks like a bug in the code.\u001b[39;00m\n\u001b[1;32m--> 466\u001b[0m             six\u001b[38;5;241m.\u001b[39mraise_from(e, \u001b[38;5;28;01mNone\u001b[39;00m)\n\u001b[0;32m    467\u001b[0m \u001b[38;5;28;01mexcept\u001b[39;00m (SocketTimeout, BaseSSLError, SocketError) \u001b[38;5;28;01mas\u001b[39;00m e:\n\u001b[0;32m    468\u001b[0m     \u001b[38;5;28mself\u001b[39m\u001b[38;5;241m.\u001b[39m_raise_timeout(err\u001b[38;5;241m=\u001b[39me, url\u001b[38;5;241m=\u001b[39murl, timeout_value\u001b[38;5;241m=\u001b[39mread_timeout)\n",
      "File \u001b[1;32m<string>:3\u001b[0m, in \u001b[0;36mraise_from\u001b[1;34m(value, from_value)\u001b[0m\n",
      "File \u001b[1;32m~\\Anaconda_Files\\Lib\\site-packages\\urllib3\\connectionpool.py:461\u001b[0m, in \u001b[0;36mHTTPConnectionPool._make_request\u001b[1;34m(self, conn, method, url, timeout, chunked, **httplib_request_kw)\u001b[0m\n\u001b[0;32m    458\u001b[0m \u001b[38;5;28;01mexcept\u001b[39;00m \u001b[38;5;167;01mTypeError\u001b[39;00m:\n\u001b[0;32m    459\u001b[0m     \u001b[38;5;66;03m# Python 3\u001b[39;00m\n\u001b[0;32m    460\u001b[0m     \u001b[38;5;28;01mtry\u001b[39;00m:\n\u001b[1;32m--> 461\u001b[0m         httplib_response \u001b[38;5;241m=\u001b[39m conn\u001b[38;5;241m.\u001b[39mgetresponse()\n\u001b[0;32m    462\u001b[0m     \u001b[38;5;28;01mexcept\u001b[39;00m \u001b[38;5;167;01mBaseException\u001b[39;00m \u001b[38;5;28;01mas\u001b[39;00m e:\n\u001b[0;32m    463\u001b[0m         \u001b[38;5;66;03m# Remove the TypeError from the exception chain in\u001b[39;00m\n\u001b[0;32m    464\u001b[0m         \u001b[38;5;66;03m# Python 3 (including for exceptions like SystemExit).\u001b[39;00m\n\u001b[0;32m    465\u001b[0m         \u001b[38;5;66;03m# Otherwise it looks like a bug in the code.\u001b[39;00m\n\u001b[0;32m    466\u001b[0m         six\u001b[38;5;241m.\u001b[39mraise_from(e, \u001b[38;5;28;01mNone\u001b[39;00m)\n",
      "File \u001b[1;32m~\\Anaconda_Files\\Lib\\http\\client.py:1378\u001b[0m, in \u001b[0;36mHTTPConnection.getresponse\u001b[1;34m(self)\u001b[0m\n\u001b[0;32m   1376\u001b[0m \u001b[38;5;28;01mtry\u001b[39;00m:\n\u001b[0;32m   1377\u001b[0m     \u001b[38;5;28;01mtry\u001b[39;00m:\n\u001b[1;32m-> 1378\u001b[0m         response\u001b[38;5;241m.\u001b[39mbegin()\n\u001b[0;32m   1379\u001b[0m     \u001b[38;5;28;01mexcept\u001b[39;00m \u001b[38;5;167;01mConnectionError\u001b[39;00m:\n\u001b[0;32m   1380\u001b[0m         \u001b[38;5;28mself\u001b[39m\u001b[38;5;241m.\u001b[39mclose()\n",
      "File \u001b[1;32m~\\Anaconda_Files\\Lib\\http\\client.py:318\u001b[0m, in \u001b[0;36mHTTPResponse.begin\u001b[1;34m(self)\u001b[0m\n\u001b[0;32m    316\u001b[0m \u001b[38;5;66;03m# read until we get a non-100 response\u001b[39;00m\n\u001b[0;32m    317\u001b[0m \u001b[38;5;28;01mwhile\u001b[39;00m \u001b[38;5;28;01mTrue\u001b[39;00m:\n\u001b[1;32m--> 318\u001b[0m     version, status, reason \u001b[38;5;241m=\u001b[39m \u001b[38;5;28mself\u001b[39m\u001b[38;5;241m.\u001b[39m_read_status()\n\u001b[0;32m    319\u001b[0m     \u001b[38;5;28;01mif\u001b[39;00m status \u001b[38;5;241m!=\u001b[39m CONTINUE:\n\u001b[0;32m    320\u001b[0m         \u001b[38;5;28;01mbreak\u001b[39;00m\n",
      "File \u001b[1;32m~\\Anaconda_Files\\Lib\\http\\client.py:279\u001b[0m, in \u001b[0;36mHTTPResponse._read_status\u001b[1;34m(self)\u001b[0m\n\u001b[0;32m    278\u001b[0m \u001b[38;5;28;01mdef\u001b[39;00m \u001b[38;5;21m_read_status\u001b[39m(\u001b[38;5;28mself\u001b[39m):\n\u001b[1;32m--> 279\u001b[0m     line \u001b[38;5;241m=\u001b[39m \u001b[38;5;28mstr\u001b[39m(\u001b[38;5;28mself\u001b[39m\u001b[38;5;241m.\u001b[39mfp\u001b[38;5;241m.\u001b[39mreadline(_MAXLINE \u001b[38;5;241m+\u001b[39m \u001b[38;5;241m1\u001b[39m), \u001b[38;5;124m\"\u001b[39m\u001b[38;5;124miso-8859-1\u001b[39m\u001b[38;5;124m\"\u001b[39m)\n\u001b[0;32m    280\u001b[0m     \u001b[38;5;28;01mif\u001b[39;00m \u001b[38;5;28mlen\u001b[39m(line) \u001b[38;5;241m>\u001b[39m _MAXLINE:\n\u001b[0;32m    281\u001b[0m         \u001b[38;5;28;01mraise\u001b[39;00m LineTooLong(\u001b[38;5;124m\"\u001b[39m\u001b[38;5;124mstatus line\u001b[39m\u001b[38;5;124m\"\u001b[39m)\n",
      "File \u001b[1;32m~\\Anaconda_Files\\Lib\\socket.py:706\u001b[0m, in \u001b[0;36mSocketIO.readinto\u001b[1;34m(self, b)\u001b[0m\n\u001b[0;32m    704\u001b[0m \u001b[38;5;28;01mwhile\u001b[39;00m \u001b[38;5;28;01mTrue\u001b[39;00m:\n\u001b[0;32m    705\u001b[0m     \u001b[38;5;28;01mtry\u001b[39;00m:\n\u001b[1;32m--> 706\u001b[0m         \u001b[38;5;28;01mreturn\u001b[39;00m \u001b[38;5;28mself\u001b[39m\u001b[38;5;241m.\u001b[39m_sock\u001b[38;5;241m.\u001b[39mrecv_into(b)\n\u001b[0;32m    707\u001b[0m     \u001b[38;5;28;01mexcept\u001b[39;00m timeout:\n\u001b[0;32m    708\u001b[0m         \u001b[38;5;28mself\u001b[39m\u001b[38;5;241m.\u001b[39m_timeout_occurred \u001b[38;5;241m=\u001b[39m \u001b[38;5;28;01mTrue\u001b[39;00m\n",
      "File \u001b[1;32m~\\Anaconda_Files\\Lib\\ssl.py:1311\u001b[0m, in \u001b[0;36mSSLSocket.recv_into\u001b[1;34m(self, buffer, nbytes, flags)\u001b[0m\n\u001b[0;32m   1307\u001b[0m     \u001b[38;5;28;01mif\u001b[39;00m flags \u001b[38;5;241m!=\u001b[39m \u001b[38;5;241m0\u001b[39m:\n\u001b[0;32m   1308\u001b[0m         \u001b[38;5;28;01mraise\u001b[39;00m \u001b[38;5;167;01mValueError\u001b[39;00m(\n\u001b[0;32m   1309\u001b[0m           \u001b[38;5;124m\"\u001b[39m\u001b[38;5;124mnon-zero flags not allowed in calls to recv_into() on \u001b[39m\u001b[38;5;132;01m%s\u001b[39;00m\u001b[38;5;124m\"\u001b[39m \u001b[38;5;241m%\u001b[39m\n\u001b[0;32m   1310\u001b[0m           \u001b[38;5;28mself\u001b[39m\u001b[38;5;241m.\u001b[39m\u001b[38;5;18m__class__\u001b[39m)\n\u001b[1;32m-> 1311\u001b[0m     \u001b[38;5;28;01mreturn\u001b[39;00m \u001b[38;5;28mself\u001b[39m\u001b[38;5;241m.\u001b[39mread(nbytes, buffer)\n\u001b[0;32m   1312\u001b[0m \u001b[38;5;28;01melse\u001b[39;00m:\n\u001b[0;32m   1313\u001b[0m     \u001b[38;5;28;01mreturn\u001b[39;00m \u001b[38;5;28msuper\u001b[39m()\u001b[38;5;241m.\u001b[39mrecv_into(buffer, nbytes, flags)\n",
      "File \u001b[1;32m~\\Anaconda_Files\\Lib\\ssl.py:1167\u001b[0m, in \u001b[0;36mSSLSocket.read\u001b[1;34m(self, len, buffer)\u001b[0m\n\u001b[0;32m   1165\u001b[0m \u001b[38;5;28;01mtry\u001b[39;00m:\n\u001b[0;32m   1166\u001b[0m     \u001b[38;5;28;01mif\u001b[39;00m buffer \u001b[38;5;129;01mis\u001b[39;00m \u001b[38;5;129;01mnot\u001b[39;00m \u001b[38;5;28;01mNone\u001b[39;00m:\n\u001b[1;32m-> 1167\u001b[0m         \u001b[38;5;28;01mreturn\u001b[39;00m \u001b[38;5;28mself\u001b[39m\u001b[38;5;241m.\u001b[39m_sslobj\u001b[38;5;241m.\u001b[39mread(\u001b[38;5;28mlen\u001b[39m, buffer)\n\u001b[0;32m   1168\u001b[0m     \u001b[38;5;28;01melse\u001b[39;00m:\n\u001b[0;32m   1169\u001b[0m         \u001b[38;5;28;01mreturn\u001b[39;00m \u001b[38;5;28mself\u001b[39m\u001b[38;5;241m.\u001b[39m_sslobj\u001b[38;5;241m.\u001b[39mread(\u001b[38;5;28mlen\u001b[39m)\n",
      "\u001b[1;31mKeyboardInterrupt\u001b[0m: "
     ]
    }
   ],
   "source": [
    "import requests\n",
    "from bs4 import BeautifulSoup\n",
    "import pandas as pd\n",
    "import time\n",
    "import sys\n",
    "from pathlib import Path\n",
    "\n",
    "# Function to scrape data from a given season and append it to a CSV file\n",
    "def scrape_season_and_save(season, csv_file):\n",
    "    url = f'https://www.pro-football-reference.com/years/{season}/rushing.htm'\n",
    "    \n",
    "    try:\n",
    "        response = requests.get(url)\n",
    "        response.raise_for_status()  # Raise HTTPError for bad responses\n",
    "    except requests.exceptions.RequestException as e:\n",
    "        print(f\"Failed to retrieve data for {season}. Error: {e}\")\n",
    "        return\n",
    "\n",
    "    soup = BeautifulSoup(response.content, 'html.parser')\n",
    "    table = soup.find('table', {'id': 'rushing'})\n",
    "\n",
    "    if table:\n",
    "        df = pd.read_html(str(table))[0]\n",
    "        df['Season'] = season\n",
    "\n",
    "        if Path(csv_file).exists():\n",
    "            df.to_csv(csv_file, mode='a', header=False, index=False)\n",
    "        else:\n",
    "            df.to_csv(csv_file, header=True, index=False)\n",
    "        \n",
    "        print(f\"Data for {season} appended to {csv_file}\")\n",
    "    else:\n",
    "        print(f\"No table found for {season}\")\n",
    "\n",
    "    time.sleep(5)\n",
    "\n",
    "# Function to iterate through the list of seasons and save all data to a single CSV file\n",
    "def scrape_all_seasons_and_save(start_year, end_year, csv_file):\n",
    "    seasons = range(end_year, start_year - 1, -1)  # Reversed range\n",
    "\n",
    "    total_seasons = len(seasons)\n",
    "\n",
    "    for i, season in enumerate(seasons, 1):\n",
    "        scrape_season_and_save(season, csv_file)\n",
    "\n",
    "        # Print percentage completion bar\n",
    "        completion_percentage = (i / total_seasons) * 100\n",
    "        sys.stdout.write(f\"\\rScraping: [{'#' * int(completion_percentage // 2)}{' ' * (50 - int(completion_percentage // 2))}] {completion_percentage:.2f}%\")\n",
    "        sys.stdout.flush()\n",
    "\n",
    "    # Print \"Scrapping Done\" and clear progress bar\n",
    "    print(\"\\nScrapping Done\")\n",
    "    sys.stdout.flush()\n",
    "\n",
    "# Specify the CSV file to save all scraped data\n",
    "csv_file_path = 'all_player_rushing_data.csv'\n",
    "\n",
    "# Call the function to scrape all seasons from 1990 to 2023 and save all data to a single CSV file\n",
    "scrape_all_seasons_and_save(1990, 2024, csv_file_path)"
   ]
  },
  {
   "cell_type": "code",
   "execution_count": 4,
   "id": "20b8a0d7-bf50-44d5-8165-bfc6d7789035",
   "metadata": {
    "tags": []
   },
   "outputs": [
    {
     "name": "stdout",
     "output_type": "stream",
     "text": [
      "Failed to retrieve data for 2024. Error: 404 Client Error: Not Found for url: https://www.pro-football-reference.com/years/2024/receiving.htm\n",
      "Scraping: [#                                                 ] 2.86%"
     ]
    },
    {
     "name": "stderr",
     "output_type": "stream",
     "text": [
      "Passing literal html to 'read_html' is deprecated and will be removed in a future version. To read from a literal string, wrap it in a 'StringIO' object.\n"
     ]
    },
    {
     "name": "stdout",
     "output_type": "stream",
     "text": [
      "Data for 2023 appended to all_player_receiving_data.csv\n",
      "Scraping: [##                                                ] 5.71%"
     ]
    },
    {
     "name": "stderr",
     "output_type": "stream",
     "text": [
      "Passing literal html to 'read_html' is deprecated and will be removed in a future version. To read from a literal string, wrap it in a 'StringIO' object.\n"
     ]
    },
    {
     "name": "stdout",
     "output_type": "stream",
     "text": [
      "Data for 2022 appended to all_player_receiving_data.csv\n",
      "Scraping: [####                                              ] 8.57%"
     ]
    },
    {
     "name": "stderr",
     "output_type": "stream",
     "text": [
      "Passing literal html to 'read_html' is deprecated and will be removed in a future version. To read from a literal string, wrap it in a 'StringIO' object.\n"
     ]
    },
    {
     "name": "stdout",
     "output_type": "stream",
     "text": [
      "Data for 2021 appended to all_player_receiving_data.csv\n",
      "Scraping: [#####                                             ] 11.43%"
     ]
    },
    {
     "name": "stderr",
     "output_type": "stream",
     "text": [
      "Passing literal html to 'read_html' is deprecated and will be removed in a future version. To read from a literal string, wrap it in a 'StringIO' object.\n"
     ]
    },
    {
     "name": "stdout",
     "output_type": "stream",
     "text": [
      "Data for 2020 appended to all_player_receiving_data.csv\n",
      "Scraping: [#######                                           ] 14.29%"
     ]
    },
    {
     "name": "stderr",
     "output_type": "stream",
     "text": [
      "Passing literal html to 'read_html' is deprecated and will be removed in a future version. To read from a literal string, wrap it in a 'StringIO' object.\n"
     ]
    },
    {
     "name": "stdout",
     "output_type": "stream",
     "text": [
      "Data for 2019 appended to all_player_receiving_data.csv\n",
      "Scraping: [########                                          ] 17.14%"
     ]
    },
    {
     "name": "stderr",
     "output_type": "stream",
     "text": [
      "Passing literal html to 'read_html' is deprecated and will be removed in a future version. To read from a literal string, wrap it in a 'StringIO' object.\n"
     ]
    },
    {
     "name": "stdout",
     "output_type": "stream",
     "text": [
      "Data for 2018 appended to all_player_receiving_data.csv\n",
      "Scraping: [##########                                        ] 20.00%"
     ]
    },
    {
     "name": "stderr",
     "output_type": "stream",
     "text": [
      "Passing literal html to 'read_html' is deprecated and will be removed in a future version. To read from a literal string, wrap it in a 'StringIO' object.\n"
     ]
    },
    {
     "name": "stdout",
     "output_type": "stream",
     "text": [
      "Data for 2017 appended to all_player_receiving_data.csv\n",
      "Scraping: [###########                                       ] 22.86%"
     ]
    },
    {
     "name": "stderr",
     "output_type": "stream",
     "text": [
      "Passing literal html to 'read_html' is deprecated and will be removed in a future version. To read from a literal string, wrap it in a 'StringIO' object.\n"
     ]
    },
    {
     "name": "stdout",
     "output_type": "stream",
     "text": [
      "Data for 2016 appended to all_player_receiving_data.csv\n",
      "Scraping: [############                                      ] 25.71%"
     ]
    },
    {
     "name": "stderr",
     "output_type": "stream",
     "text": [
      "Passing literal html to 'read_html' is deprecated and will be removed in a future version. To read from a literal string, wrap it in a 'StringIO' object.\n"
     ]
    },
    {
     "name": "stdout",
     "output_type": "stream",
     "text": [
      "Data for 2015 appended to all_player_receiving_data.csv\n",
      "Scraping: [##############                                    ] 28.57%"
     ]
    },
    {
     "name": "stderr",
     "output_type": "stream",
     "text": [
      "Passing literal html to 'read_html' is deprecated and will be removed in a future version. To read from a literal string, wrap it in a 'StringIO' object.\n"
     ]
    },
    {
     "name": "stdout",
     "output_type": "stream",
     "text": [
      "Data for 2014 appended to all_player_receiving_data.csv\n",
      "Scraping: [###############                                   ] 31.43%"
     ]
    },
    {
     "name": "stderr",
     "output_type": "stream",
     "text": [
      "Passing literal html to 'read_html' is deprecated and will be removed in a future version. To read from a literal string, wrap it in a 'StringIO' object.\n"
     ]
    },
    {
     "name": "stdout",
     "output_type": "stream",
     "text": [
      "Data for 2013 appended to all_player_receiving_data.csv\n",
      "Scraping: [#################                                 ] 34.29%"
     ]
    },
    {
     "name": "stderr",
     "output_type": "stream",
     "text": [
      "Passing literal html to 'read_html' is deprecated and will be removed in a future version. To read from a literal string, wrap it in a 'StringIO' object.\n"
     ]
    },
    {
     "name": "stdout",
     "output_type": "stream",
     "text": [
      "Data for 2012 appended to all_player_receiving_data.csv\n",
      "Scraping: [##################                                ] 37.14%"
     ]
    },
    {
     "name": "stderr",
     "output_type": "stream",
     "text": [
      "Passing literal html to 'read_html' is deprecated and will be removed in a future version. To read from a literal string, wrap it in a 'StringIO' object.\n"
     ]
    },
    {
     "name": "stdout",
     "output_type": "stream",
     "text": [
      "Data for 2011 appended to all_player_receiving_data.csv\n",
      "Scraping: [####################                              ] 40.00%"
     ]
    },
    {
     "name": "stderr",
     "output_type": "stream",
     "text": [
      "Passing literal html to 'read_html' is deprecated and will be removed in a future version. To read from a literal string, wrap it in a 'StringIO' object.\n"
     ]
    },
    {
     "name": "stdout",
     "output_type": "stream",
     "text": [
      "Data for 2010 appended to all_player_receiving_data.csv\n",
      "Scraping: [#####################                             ] 42.86%"
     ]
    },
    {
     "name": "stderr",
     "output_type": "stream",
     "text": [
      "Passing literal html to 'read_html' is deprecated and will be removed in a future version. To read from a literal string, wrap it in a 'StringIO' object.\n"
     ]
    },
    {
     "name": "stdout",
     "output_type": "stream",
     "text": [
      "Data for 2009 appended to all_player_receiving_data.csv\n",
      "Scraping: [######################                            ] 45.71%"
     ]
    },
    {
     "name": "stderr",
     "output_type": "stream",
     "text": [
      "Passing literal html to 'read_html' is deprecated and will be removed in a future version. To read from a literal string, wrap it in a 'StringIO' object.\n"
     ]
    },
    {
     "name": "stdout",
     "output_type": "stream",
     "text": [
      "Data for 2008 appended to all_player_receiving_data.csv\n",
      "Scraping: [########################                          ] 48.57%"
     ]
    },
    {
     "name": "stderr",
     "output_type": "stream",
     "text": [
      "Passing literal html to 'read_html' is deprecated and will be removed in a future version. To read from a literal string, wrap it in a 'StringIO' object.\n"
     ]
    },
    {
     "name": "stdout",
     "output_type": "stream",
     "text": [
      "Data for 2007 appended to all_player_receiving_data.csv\n",
      "Scraping: [#########################                         ] 51.43%"
     ]
    },
    {
     "name": "stderr",
     "output_type": "stream",
     "text": [
      "Passing literal html to 'read_html' is deprecated and will be removed in a future version. To read from a literal string, wrap it in a 'StringIO' object.\n"
     ]
    },
    {
     "name": "stdout",
     "output_type": "stream",
     "text": [
      "Data for 2006 appended to all_player_receiving_data.csv\n",
      "Scraping: [###########################                       ] 54.29%"
     ]
    },
    {
     "name": "stderr",
     "output_type": "stream",
     "text": [
      "Passing literal html to 'read_html' is deprecated and will be removed in a future version. To read from a literal string, wrap it in a 'StringIO' object.\n"
     ]
    },
    {
     "name": "stdout",
     "output_type": "stream",
     "text": [
      "Data for 2005 appended to all_player_receiving_data.csv\n",
      "Scraping: [############################                      ] 57.14%"
     ]
    },
    {
     "name": "stderr",
     "output_type": "stream",
     "text": [
      "Passing literal html to 'read_html' is deprecated and will be removed in a future version. To read from a literal string, wrap it in a 'StringIO' object.\n"
     ]
    },
    {
     "name": "stdout",
     "output_type": "stream",
     "text": [
      "Data for 2004 appended to all_player_receiving_data.csv\n",
      "Scraping: [##############################                    ] 60.00%"
     ]
    },
    {
     "name": "stderr",
     "output_type": "stream",
     "text": [
      "Passing literal html to 'read_html' is deprecated and will be removed in a future version. To read from a literal string, wrap it in a 'StringIO' object.\n"
     ]
    },
    {
     "name": "stdout",
     "output_type": "stream",
     "text": [
      "Data for 2003 appended to all_player_receiving_data.csv\n",
      "Scraping: [###############################                   ] 62.86%"
     ]
    },
    {
     "name": "stderr",
     "output_type": "stream",
     "text": [
      "Passing literal html to 'read_html' is deprecated and will be removed in a future version. To read from a literal string, wrap it in a 'StringIO' object.\n"
     ]
    },
    {
     "name": "stdout",
     "output_type": "stream",
     "text": [
      "Data for 2002 appended to all_player_receiving_data.csv\n",
      "Scraping: [################################                  ] 65.71%"
     ]
    },
    {
     "name": "stderr",
     "output_type": "stream",
     "text": [
      "Passing literal html to 'read_html' is deprecated and will be removed in a future version. To read from a literal string, wrap it in a 'StringIO' object.\n"
     ]
    },
    {
     "name": "stdout",
     "output_type": "stream",
     "text": [
      "Data for 2001 appended to all_player_receiving_data.csv\n",
      "Scraping: [##################################                ] 68.57%"
     ]
    },
    {
     "name": "stderr",
     "output_type": "stream",
     "text": [
      "Passing literal html to 'read_html' is deprecated and will be removed in a future version. To read from a literal string, wrap it in a 'StringIO' object.\n"
     ]
    },
    {
     "name": "stdout",
     "output_type": "stream",
     "text": [
      "Data for 2000 appended to all_player_receiving_data.csv\n",
      "Scraping: [###################################               ] 71.43%"
     ]
    },
    {
     "name": "stderr",
     "output_type": "stream",
     "text": [
      "Passing literal html to 'read_html' is deprecated and will be removed in a future version. To read from a literal string, wrap it in a 'StringIO' object.\n"
     ]
    },
    {
     "name": "stdout",
     "output_type": "stream",
     "text": [
      "Data for 1999 appended to all_player_receiving_data.csv\n",
      "Scraping: [#####################################             ] 74.29%"
     ]
    },
    {
     "name": "stderr",
     "output_type": "stream",
     "text": [
      "Passing literal html to 'read_html' is deprecated and will be removed in a future version. To read from a literal string, wrap it in a 'StringIO' object.\n"
     ]
    },
    {
     "name": "stdout",
     "output_type": "stream",
     "text": [
      "Data for 1998 appended to all_player_receiving_data.csv\n",
      "Scraping: [######################################            ] 77.14%"
     ]
    },
    {
     "name": "stderr",
     "output_type": "stream",
     "text": [
      "Passing literal html to 'read_html' is deprecated and will be removed in a future version. To read from a literal string, wrap it in a 'StringIO' object.\n"
     ]
    },
    {
     "name": "stdout",
     "output_type": "stream",
     "text": [
      "Data for 1997 appended to all_player_receiving_data.csv\n",
      "Scraping: [########################################          ] 80.00%"
     ]
    },
    {
     "name": "stderr",
     "output_type": "stream",
     "text": [
      "Passing literal html to 'read_html' is deprecated and will be removed in a future version. To read from a literal string, wrap it in a 'StringIO' object.\n"
     ]
    },
    {
     "name": "stdout",
     "output_type": "stream",
     "text": [
      "Data for 1996 appended to all_player_receiving_data.csv\n",
      "Scraping: [#########################################         ] 82.86%"
     ]
    },
    {
     "name": "stderr",
     "output_type": "stream",
     "text": [
      "Passing literal html to 'read_html' is deprecated and will be removed in a future version. To read from a literal string, wrap it in a 'StringIO' object.\n"
     ]
    },
    {
     "name": "stdout",
     "output_type": "stream",
     "text": [
      "Data for 1995 appended to all_player_receiving_data.csv\n",
      "Scraping: [##########################################        ] 85.71%"
     ]
    },
    {
     "name": "stderr",
     "output_type": "stream",
     "text": [
      "Passing literal html to 'read_html' is deprecated and will be removed in a future version. To read from a literal string, wrap it in a 'StringIO' object.\n"
     ]
    },
    {
     "name": "stdout",
     "output_type": "stream",
     "text": [
      "Data for 1994 appended to all_player_receiving_data.csv\n",
      "Scraping: [############################################      ] 88.57%"
     ]
    },
    {
     "name": "stderr",
     "output_type": "stream",
     "text": [
      "Passing literal html to 'read_html' is deprecated and will be removed in a future version. To read from a literal string, wrap it in a 'StringIO' object.\n"
     ]
    },
    {
     "name": "stdout",
     "output_type": "stream",
     "text": [
      "Data for 1993 appended to all_player_receiving_data.csv\n",
      "Scraping: [#############################################     ] 91.43%"
     ]
    },
    {
     "name": "stderr",
     "output_type": "stream",
     "text": [
      "Passing literal html to 'read_html' is deprecated and will be removed in a future version. To read from a literal string, wrap it in a 'StringIO' object.\n"
     ]
    },
    {
     "name": "stdout",
     "output_type": "stream",
     "text": [
      "Data for 1992 appended to all_player_receiving_data.csv\n",
      "Scraping: [###############################################   ] 94.29%"
     ]
    },
    {
     "name": "stderr",
     "output_type": "stream",
     "text": [
      "Passing literal html to 'read_html' is deprecated and will be removed in a future version. To read from a literal string, wrap it in a 'StringIO' object.\n"
     ]
    },
    {
     "name": "stdout",
     "output_type": "stream",
     "text": [
      "Data for 1991 appended to all_player_receiving_data.csv\n",
      "Scraping: [################################################  ] 97.14%"
     ]
    },
    {
     "name": "stderr",
     "output_type": "stream",
     "text": [
      "Passing literal html to 'read_html' is deprecated and will be removed in a future version. To read from a literal string, wrap it in a 'StringIO' object.\n"
     ]
    },
    {
     "name": "stdout",
     "output_type": "stream",
     "text": [
      "Data for 1990 appended to all_player_receiving_data.csv\n",
      "Scraping: [##################################################] 100.00%\n",
      "Scrapping Done\n"
     ]
    }
   ],
   "source": [
    "import requests\n",
    "from bs4 import BeautifulSoup\n",
    "import pandas as pd\n",
    "import time\n",
    "import sys\n",
    "from pathlib import Path\n",
    "\n",
    "# Function to scrape data from a given season and append it to a CSV file\n",
    "def scrape_season_and_save(season, csv_file):\n",
    "    url = f'https://www.pro-football-reference.com/years/{season}/receiving.htm'\n",
    "    \n",
    "    try:\n",
    "        response = requests.get(url)\n",
    "        response.raise_for_status()  # Raise HTTPError for bad responses\n",
    "    except requests.exceptions.RequestException as e:\n",
    "        print(f\"Failed to retrieve data for {season}. Error: {e}\")\n",
    "        return\n",
    "\n",
    "    soup = BeautifulSoup(response.content, 'html.parser')\n",
    "    table = soup.find('table', {'id': 'receiving'})\n",
    "\n",
    "    if table:\n",
    "        df = pd.read_html(str(table))[0]\n",
    "        df['Season'] = season\n",
    "\n",
    "        if Path(csv_file).exists():\n",
    "            df.to_csv(csv_file, mode='a', header=False, index=False)\n",
    "        else:\n",
    "            df.to_csv(csv_file, header=True, index=False)\n",
    "        \n",
    "        print(f\"Data for {season} appended to {csv_file}\")\n",
    "    else:\n",
    "        print(f\"No table found for {season}\")\n",
    "\n",
    "    time.sleep(5)\n",
    "\n",
    "# Function to iterate through the list of seasons and save all data to a single CSV file\n",
    "def scrape_all_seasons_and_save(start_year, end_year, csv_file):\n",
    "    seasons = range(end_year, start_year - 1, -1)  # Reversed range\n",
    "\n",
    "    total_seasons = len(seasons)\n",
    "\n",
    "    for i, season in enumerate(seasons, 1):\n",
    "        scrape_season_and_save(season, csv_file)\n",
    "\n",
    "        # Print percentage completion bar\n",
    "        completion_percentage = (i / total_seasons) * 100\n",
    "        sys.stdout.write(f\"\\rScraping: [{'#' * int(completion_percentage // 2)}{' ' * (50 - int(completion_percentage // 2))}] {completion_percentage:.2f}%\")\n",
    "        sys.stdout.flush()\n",
    "\n",
    "    # Print \"Scrapping Done\" and clear progress bar\n",
    "    print(\"\\nScrapping Done\")\n",
    "    sys.stdout.flush()\n",
    "\n",
    "# Specify the CSV file to save all scraped data\n",
    "csv_file_path = 'all_player_receiving_data.csv'\n",
    "\n",
    "# Call the function to scrape all seasons from 1990 to 2023 and save all data to a single CSV file\n",
    "scrape_all_seasons_and_save(1990, 2024, csv_file_path)"
   ]
  },
  {
   "cell_type": "code",
   "execution_count": 3,
   "id": "b54f9505-88b4-4747-84aa-fd409dda22ab",
   "metadata": {
    "tags": []
   },
   "outputs": [
    {
     "name": "stdout",
     "output_type": "stream",
     "text": [
      "Failed to retrieve data for 2024. Error: 404 Client Error: Not Found for url: https://www.pro-football-reference.com/years/2024/defense.htm\n",
      "Scraping: [#                                                 ] 2.86%"
     ]
    },
    {
     "name": "stderr",
     "output_type": "stream",
     "text": [
      "Passing literal html to 'read_html' is deprecated and will be removed in a future version. To read from a literal string, wrap it in a 'StringIO' object.\n"
     ]
    },
    {
     "name": "stdout",
     "output_type": "stream",
     "text": [
      "Data for 2023 appended to all_player_defense_data.csv\n",
      "Scraping: [##                                                ] 5.71%"
     ]
    },
    {
     "name": "stderr",
     "output_type": "stream",
     "text": [
      "Passing literal html to 'read_html' is deprecated and will be removed in a future version. To read from a literal string, wrap it in a 'StringIO' object.\n"
     ]
    },
    {
     "name": "stdout",
     "output_type": "stream",
     "text": [
      "Data for 2022 appended to all_player_defense_data.csv\n",
      "Scraping: [####                                              ] 8.57%"
     ]
    },
    {
     "name": "stderr",
     "output_type": "stream",
     "text": [
      "Passing literal html to 'read_html' is deprecated and will be removed in a future version. To read from a literal string, wrap it in a 'StringIO' object.\n"
     ]
    },
    {
     "name": "stdout",
     "output_type": "stream",
     "text": [
      "Data for 2021 appended to all_player_defense_data.csv\n",
      "Scraping: [#####                                             ] 11.43%"
     ]
    },
    {
     "name": "stderr",
     "output_type": "stream",
     "text": [
      "Passing literal html to 'read_html' is deprecated and will be removed in a future version. To read from a literal string, wrap it in a 'StringIO' object.\n"
     ]
    },
    {
     "name": "stdout",
     "output_type": "stream",
     "text": [
      "Data for 2020 appended to all_player_defense_data.csv\n",
      "Scraping: [#######                                           ] 14.29%"
     ]
    },
    {
     "name": "stderr",
     "output_type": "stream",
     "text": [
      "Passing literal html to 'read_html' is deprecated and will be removed in a future version. To read from a literal string, wrap it in a 'StringIO' object.\n"
     ]
    },
    {
     "name": "stdout",
     "output_type": "stream",
     "text": [
      "Data for 2019 appended to all_player_defense_data.csv\n",
      "Scraping: [########                                          ] 17.14%"
     ]
    },
    {
     "name": "stderr",
     "output_type": "stream",
     "text": [
      "Passing literal html to 'read_html' is deprecated and will be removed in a future version. To read from a literal string, wrap it in a 'StringIO' object.\n"
     ]
    },
    {
     "name": "stdout",
     "output_type": "stream",
     "text": [
      "Data for 2018 appended to all_player_defense_data.csv\n",
      "Scraping: [##########                                        ] 20.00%"
     ]
    },
    {
     "name": "stderr",
     "output_type": "stream",
     "text": [
      "Passing literal html to 'read_html' is deprecated and will be removed in a future version. To read from a literal string, wrap it in a 'StringIO' object.\n"
     ]
    },
    {
     "name": "stdout",
     "output_type": "stream",
     "text": [
      "Data for 2017 appended to all_player_defense_data.csv\n",
      "Scraping: [###########                                       ] 22.86%"
     ]
    },
    {
     "name": "stderr",
     "output_type": "stream",
     "text": [
      "Passing literal html to 'read_html' is deprecated and will be removed in a future version. To read from a literal string, wrap it in a 'StringIO' object.\n"
     ]
    },
    {
     "name": "stdout",
     "output_type": "stream",
     "text": [
      "Data for 2016 appended to all_player_defense_data.csv\n",
      "Scraping: [############                                      ] 25.71%"
     ]
    },
    {
     "name": "stderr",
     "output_type": "stream",
     "text": [
      "Passing literal html to 'read_html' is deprecated and will be removed in a future version. To read from a literal string, wrap it in a 'StringIO' object.\n"
     ]
    },
    {
     "name": "stdout",
     "output_type": "stream",
     "text": [
      "Data for 2015 appended to all_player_defense_data.csv\n",
      "Scraping: [##############                                    ] 28.57%"
     ]
    },
    {
     "name": "stderr",
     "output_type": "stream",
     "text": [
      "Passing literal html to 'read_html' is deprecated and will be removed in a future version. To read from a literal string, wrap it in a 'StringIO' object.\n"
     ]
    },
    {
     "name": "stdout",
     "output_type": "stream",
     "text": [
      "Data for 2014 appended to all_player_defense_data.csv\n",
      "Scraping: [###############                                   ] 31.43%"
     ]
    },
    {
     "name": "stderr",
     "output_type": "stream",
     "text": [
      "Passing literal html to 'read_html' is deprecated and will be removed in a future version. To read from a literal string, wrap it in a 'StringIO' object.\n"
     ]
    },
    {
     "name": "stdout",
     "output_type": "stream",
     "text": [
      "Data for 2013 appended to all_player_defense_data.csv\n",
      "Scraping: [#################                                 ] 34.29%"
     ]
    },
    {
     "name": "stderr",
     "output_type": "stream",
     "text": [
      "Passing literal html to 'read_html' is deprecated and will be removed in a future version. To read from a literal string, wrap it in a 'StringIO' object.\n"
     ]
    },
    {
     "name": "stdout",
     "output_type": "stream",
     "text": [
      "Data for 2012 appended to all_player_defense_data.csv\n",
      "Scraping: [##################                                ] 37.14%"
     ]
    },
    {
     "name": "stderr",
     "output_type": "stream",
     "text": [
      "Passing literal html to 'read_html' is deprecated and will be removed in a future version. To read from a literal string, wrap it in a 'StringIO' object.\n"
     ]
    },
    {
     "name": "stdout",
     "output_type": "stream",
     "text": [
      "Data for 2011 appended to all_player_defense_data.csv\n",
      "Scraping: [####################                              ] 40.00%"
     ]
    },
    {
     "name": "stderr",
     "output_type": "stream",
     "text": [
      "Passing literal html to 'read_html' is deprecated and will be removed in a future version. To read from a literal string, wrap it in a 'StringIO' object.\n"
     ]
    },
    {
     "name": "stdout",
     "output_type": "stream",
     "text": [
      "Data for 2010 appended to all_player_defense_data.csv\n",
      "Scraping: [#####################                             ] 42.86%"
     ]
    },
    {
     "name": "stderr",
     "output_type": "stream",
     "text": [
      "Passing literal html to 'read_html' is deprecated and will be removed in a future version. To read from a literal string, wrap it in a 'StringIO' object.\n"
     ]
    },
    {
     "name": "stdout",
     "output_type": "stream",
     "text": [
      "Data for 2009 appended to all_player_defense_data.csv\n",
      "Scraping: [######################                            ] 45.71%"
     ]
    },
    {
     "name": "stderr",
     "output_type": "stream",
     "text": [
      "Passing literal html to 'read_html' is deprecated and will be removed in a future version. To read from a literal string, wrap it in a 'StringIO' object.\n"
     ]
    },
    {
     "name": "stdout",
     "output_type": "stream",
     "text": [
      "Data for 2008 appended to all_player_defense_data.csv\n",
      "Scraping: [########################                          ] 48.57%"
     ]
    },
    {
     "name": "stderr",
     "output_type": "stream",
     "text": [
      "Passing literal html to 'read_html' is deprecated and will be removed in a future version. To read from a literal string, wrap it in a 'StringIO' object.\n"
     ]
    },
    {
     "name": "stdout",
     "output_type": "stream",
     "text": [
      "Data for 2007 appended to all_player_defense_data.csv\n",
      "Scraping: [#########################                         ] 51.43%"
     ]
    },
    {
     "name": "stderr",
     "output_type": "stream",
     "text": [
      "Passing literal html to 'read_html' is deprecated and will be removed in a future version. To read from a literal string, wrap it in a 'StringIO' object.\n"
     ]
    },
    {
     "name": "stdout",
     "output_type": "stream",
     "text": [
      "Data for 2006 appended to all_player_defense_data.csv\n",
      "Scraping: [###########################                       ] 54.29%"
     ]
    },
    {
     "name": "stderr",
     "output_type": "stream",
     "text": [
      "Passing literal html to 'read_html' is deprecated and will be removed in a future version. To read from a literal string, wrap it in a 'StringIO' object.\n"
     ]
    },
    {
     "name": "stdout",
     "output_type": "stream",
     "text": [
      "Data for 2005 appended to all_player_defense_data.csv\n",
      "Scraping: [############################                      ] 57.14%"
     ]
    },
    {
     "name": "stderr",
     "output_type": "stream",
     "text": [
      "Passing literal html to 'read_html' is deprecated and will be removed in a future version. To read from a literal string, wrap it in a 'StringIO' object.\n"
     ]
    },
    {
     "name": "stdout",
     "output_type": "stream",
     "text": [
      "Data for 2004 appended to all_player_defense_data.csv\n",
      "Scraping: [##############################                    ] 60.00%"
     ]
    },
    {
     "name": "stderr",
     "output_type": "stream",
     "text": [
      "Passing literal html to 'read_html' is deprecated and will be removed in a future version. To read from a literal string, wrap it in a 'StringIO' object.\n"
     ]
    },
    {
     "name": "stdout",
     "output_type": "stream",
     "text": [
      "Data for 2003 appended to all_player_defense_data.csv\n",
      "Scraping: [###############################                   ] 62.86%"
     ]
    },
    {
     "name": "stderr",
     "output_type": "stream",
     "text": [
      "Passing literal html to 'read_html' is deprecated and will be removed in a future version. To read from a literal string, wrap it in a 'StringIO' object.\n"
     ]
    },
    {
     "name": "stdout",
     "output_type": "stream",
     "text": [
      "Data for 2002 appended to all_player_defense_data.csv\n",
      "Scraping: [################################                  ] 65.71%"
     ]
    },
    {
     "name": "stderr",
     "output_type": "stream",
     "text": [
      "Passing literal html to 'read_html' is deprecated and will be removed in a future version. To read from a literal string, wrap it in a 'StringIO' object.\n"
     ]
    },
    {
     "name": "stdout",
     "output_type": "stream",
     "text": [
      "Data for 2001 appended to all_player_defense_data.csv\n",
      "Scraping: [##################################                ] 68.57%"
     ]
    },
    {
     "name": "stderr",
     "output_type": "stream",
     "text": [
      "Passing literal html to 'read_html' is deprecated and will be removed in a future version. To read from a literal string, wrap it in a 'StringIO' object.\n"
     ]
    },
    {
     "name": "stdout",
     "output_type": "stream",
     "text": [
      "Data for 2000 appended to all_player_defense_data.csv\n",
      "Scraping: [###################################               ] 71.43%"
     ]
    },
    {
     "name": "stderr",
     "output_type": "stream",
     "text": [
      "Passing literal html to 'read_html' is deprecated and will be removed in a future version. To read from a literal string, wrap it in a 'StringIO' object.\n"
     ]
    },
    {
     "name": "stdout",
     "output_type": "stream",
     "text": [
      "Data for 1999 appended to all_player_defense_data.csv\n",
      "Scraping: [#####################################             ] 74.29%"
     ]
    },
    {
     "name": "stderr",
     "output_type": "stream",
     "text": [
      "Passing literal html to 'read_html' is deprecated and will be removed in a future version. To read from a literal string, wrap it in a 'StringIO' object.\n"
     ]
    },
    {
     "name": "stdout",
     "output_type": "stream",
     "text": [
      "Data for 1998 appended to all_player_defense_data.csv\n",
      "Scraping: [######################################            ] 77.14%"
     ]
    },
    {
     "name": "stderr",
     "output_type": "stream",
     "text": [
      "Passing literal html to 'read_html' is deprecated and will be removed in a future version. To read from a literal string, wrap it in a 'StringIO' object.\n"
     ]
    },
    {
     "name": "stdout",
     "output_type": "stream",
     "text": [
      "Data for 1997 appended to all_player_defense_data.csv\n",
      "Scraping: [########################################          ] 80.00%"
     ]
    },
    {
     "name": "stderr",
     "output_type": "stream",
     "text": [
      "Passing literal html to 'read_html' is deprecated and will be removed in a future version. To read from a literal string, wrap it in a 'StringIO' object.\n"
     ]
    },
    {
     "name": "stdout",
     "output_type": "stream",
     "text": [
      "Data for 1996 appended to all_player_defense_data.csv\n",
      "Scraping: [#########################################         ] 82.86%"
     ]
    },
    {
     "name": "stderr",
     "output_type": "stream",
     "text": [
      "Passing literal html to 'read_html' is deprecated and will be removed in a future version. To read from a literal string, wrap it in a 'StringIO' object.\n"
     ]
    },
    {
     "name": "stdout",
     "output_type": "stream",
     "text": [
      "Data for 1995 appended to all_player_defense_data.csv\n",
      "Scraping: [##########################################        ] 85.71%"
     ]
    },
    {
     "name": "stderr",
     "output_type": "stream",
     "text": [
      "Passing literal html to 'read_html' is deprecated and will be removed in a future version. To read from a literal string, wrap it in a 'StringIO' object.\n"
     ]
    },
    {
     "name": "stdout",
     "output_type": "stream",
     "text": [
      "Data for 1994 appended to all_player_defense_data.csv\n",
      "Scraping: [############################################      ] 88.57%"
     ]
    },
    {
     "name": "stderr",
     "output_type": "stream",
     "text": [
      "Passing literal html to 'read_html' is deprecated and will be removed in a future version. To read from a literal string, wrap it in a 'StringIO' object.\n"
     ]
    },
    {
     "name": "stdout",
     "output_type": "stream",
     "text": [
      "Data for 1993 appended to all_player_defense_data.csv\n",
      "Scraping: [#############################################     ] 91.43%"
     ]
    },
    {
     "name": "stderr",
     "output_type": "stream",
     "text": [
      "Passing literal html to 'read_html' is deprecated and will be removed in a future version. To read from a literal string, wrap it in a 'StringIO' object.\n"
     ]
    },
    {
     "name": "stdout",
     "output_type": "stream",
     "text": [
      "Data for 1992 appended to all_player_defense_data.csv\n",
      "Scraping: [###############################################   ] 94.29%"
     ]
    },
    {
     "name": "stderr",
     "output_type": "stream",
     "text": [
      "Passing literal html to 'read_html' is deprecated and will be removed in a future version. To read from a literal string, wrap it in a 'StringIO' object.\n"
     ]
    },
    {
     "name": "stdout",
     "output_type": "stream",
     "text": [
      "Data for 1991 appended to all_player_defense_data.csv\n",
      "Scraping: [################################################  ] 97.14%"
     ]
    },
    {
     "name": "stderr",
     "output_type": "stream",
     "text": [
      "Passing literal html to 'read_html' is deprecated and will be removed in a future version. To read from a literal string, wrap it in a 'StringIO' object.\n"
     ]
    },
    {
     "name": "stdout",
     "output_type": "stream",
     "text": [
      "Data for 1990 appended to all_player_defense_data.csv\n",
      "Scraping: [##################################################] 100.00%\n",
      "Scrapping Done\n"
     ]
    }
   ],
   "source": [
    "import requests\n",
    "from bs4 import BeautifulSoup\n",
    "import pandas as pd\n",
    "import time\n",
    "import sys\n",
    "from pathlib import Path\n",
    "\n",
    "# Function to scrape data from a given season and append it to a CSV file\n",
    "def scrape_season_and_save(season, csv_file):\n",
    "    url = f'https://www.pro-football-reference.com/years/{season}/defense.htm'\n",
    "    \n",
    "    try:\n",
    "        response = requests.get(url)\n",
    "        response.raise_for_status()  # Raise HTTPError for bad responses\n",
    "    except requests.exceptions.RequestException as e:\n",
    "        print(f\"Failed to retrieve data for {season}. Error: {e}\")\n",
    "        return\n",
    "\n",
    "    soup = BeautifulSoup(response.content, 'html.parser')\n",
    "    table = soup.find('table', {'id': 'defense'})\n",
    "\n",
    "    if table:\n",
    "        df = pd.read_html(str(table))[0]\n",
    "        df['Season'] = season\n",
    "\n",
    "        if Path(csv_file).exists():\n",
    "            df.to_csv(csv_file, mode='a', header=False, index=False)\n",
    "        else:\n",
    "            df.to_csv(csv_file, header=True, index=False)\n",
    "        \n",
    "        print(f\"Data for {season} appended to {csv_file}\")\n",
    "    else:\n",
    "        print(f\"No table found for {season}\")\n",
    "\n",
    "    time.sleep(5)\n",
    "\n",
    "# Function to iterate through the list of seasons and save all data to a single CSV file\n",
    "def scrape_all_seasons_and_save(start_year, end_year, csv_file):\n",
    "    seasons = range(end_year, start_year - 1, -1)  # Reversed range\n",
    "\n",
    "    total_seasons = len(seasons)\n",
    "\n",
    "    for i, season in enumerate(seasons, 1):\n",
    "        scrape_season_and_save(season, csv_file)\n",
    "\n",
    "        # Print percentage completion bar\n",
    "        completion_percentage = (i / total_seasons) * 100\n",
    "        sys.stdout.write(f\"\\rScraping: [{'#' * int(completion_percentage // 2)}{' ' * (50 - int(completion_percentage // 2))}] {completion_percentage:.2f}%\")\n",
    "        sys.stdout.flush()\n",
    "\n",
    "    # Print \"Scrapping Done\" and clear progress bar\n",
    "    print(\"\\nScrapping Done\")\n",
    "    sys.stdout.flush()\n",
    "\n",
    "# Specify the CSV file to save all scraped data\n",
    "csv_file_path = 'all_player_defense_data.csv'\n",
    "\n",
    "# Call the function to scrape all seasons from 1990 to 2023 and save all data to a single CSV file\n",
    "scrape_all_seasons_and_save(1990, 2024, csv_file_path)"
   ]
  },
  {
   "cell_type": "code",
   "execution_count": 2,
   "id": "8ec1639f-6394-41d0-a205-74366763ccd4",
   "metadata": {
    "tags": []
   },
   "outputs": [
    {
     "name": "stdout",
     "output_type": "stream",
     "text": [
      "No table found for 2024\n",
      "Scraping: [#                                                 ] 2.86%"
     ]
    },
    {
     "name": "stderr",
     "output_type": "stream",
     "text": [
      "Passing literal html to 'read_html' is deprecated and will be removed in a future version. To read from a literal string, wrap it in a 'StringIO' object.\n"
     ]
    },
    {
     "name": "stdout",
     "output_type": "stream",
     "text": [
      "Data for 2023 appended to all_player_kicking_data.csv\n",
      "Scraping: [##                                                ] 5.71%"
     ]
    },
    {
     "name": "stderr",
     "output_type": "stream",
     "text": [
      "Passing literal html to 'read_html' is deprecated and will be removed in a future version. To read from a literal string, wrap it in a 'StringIO' object.\n"
     ]
    },
    {
     "name": "stdout",
     "output_type": "stream",
     "text": [
      "Data for 2022 appended to all_player_kicking_data.csv\n",
      "Scraping: [####                                              ] 8.57%"
     ]
    },
    {
     "name": "stderr",
     "output_type": "stream",
     "text": [
      "Passing literal html to 'read_html' is deprecated and will be removed in a future version. To read from a literal string, wrap it in a 'StringIO' object.\n"
     ]
    },
    {
     "name": "stdout",
     "output_type": "stream",
     "text": [
      "Data for 2021 appended to all_player_kicking_data.csv\n",
      "Scraping: [#####                                             ] 11.43%"
     ]
    },
    {
     "name": "stderr",
     "output_type": "stream",
     "text": [
      "Passing literal html to 'read_html' is deprecated and will be removed in a future version. To read from a literal string, wrap it in a 'StringIO' object.\n"
     ]
    },
    {
     "name": "stdout",
     "output_type": "stream",
     "text": [
      "Data for 2020 appended to all_player_kicking_data.csv\n",
      "Scraping: [#######                                           ] 14.29%"
     ]
    },
    {
     "name": "stderr",
     "output_type": "stream",
     "text": [
      "Passing literal html to 'read_html' is deprecated and will be removed in a future version. To read from a literal string, wrap it in a 'StringIO' object.\n"
     ]
    },
    {
     "name": "stdout",
     "output_type": "stream",
     "text": [
      "Data for 2019 appended to all_player_kicking_data.csv\n",
      "Scraping: [########                                          ] 17.14%"
     ]
    },
    {
     "name": "stderr",
     "output_type": "stream",
     "text": [
      "Passing literal html to 'read_html' is deprecated and will be removed in a future version. To read from a literal string, wrap it in a 'StringIO' object.\n"
     ]
    },
    {
     "name": "stdout",
     "output_type": "stream",
     "text": [
      "Data for 2018 appended to all_player_kicking_data.csv\n",
      "Scraping: [##########                                        ] 20.00%"
     ]
    },
    {
     "name": "stderr",
     "output_type": "stream",
     "text": [
      "Passing literal html to 'read_html' is deprecated and will be removed in a future version. To read from a literal string, wrap it in a 'StringIO' object.\n"
     ]
    },
    {
     "name": "stdout",
     "output_type": "stream",
     "text": [
      "Data for 2017 appended to all_player_kicking_data.csv\n",
      "Scraping: [###########                                       ] 22.86%"
     ]
    },
    {
     "name": "stderr",
     "output_type": "stream",
     "text": [
      "Passing literal html to 'read_html' is deprecated and will be removed in a future version. To read from a literal string, wrap it in a 'StringIO' object.\n"
     ]
    },
    {
     "name": "stdout",
     "output_type": "stream",
     "text": [
      "Data for 2016 appended to all_player_kicking_data.csv\n",
      "Scraping: [############                                      ] 25.71%"
     ]
    },
    {
     "name": "stderr",
     "output_type": "stream",
     "text": [
      "Passing literal html to 'read_html' is deprecated and will be removed in a future version. To read from a literal string, wrap it in a 'StringIO' object.\n"
     ]
    },
    {
     "name": "stdout",
     "output_type": "stream",
     "text": [
      "Data for 2015 appended to all_player_kicking_data.csv\n",
      "Scraping: [##############                                    ] 28.57%"
     ]
    },
    {
     "name": "stderr",
     "output_type": "stream",
     "text": [
      "Passing literal html to 'read_html' is deprecated and will be removed in a future version. To read from a literal string, wrap it in a 'StringIO' object.\n"
     ]
    },
    {
     "name": "stdout",
     "output_type": "stream",
     "text": [
      "Data for 2014 appended to all_player_kicking_data.csv\n",
      "Scraping: [###############                                   ] 31.43%"
     ]
    },
    {
     "name": "stderr",
     "output_type": "stream",
     "text": [
      "Passing literal html to 'read_html' is deprecated and will be removed in a future version. To read from a literal string, wrap it in a 'StringIO' object.\n"
     ]
    },
    {
     "name": "stdout",
     "output_type": "stream",
     "text": [
      "Data for 2013 appended to all_player_kicking_data.csv\n",
      "Scraping: [#################                                 ] 34.29%"
     ]
    },
    {
     "name": "stderr",
     "output_type": "stream",
     "text": [
      "Passing literal html to 'read_html' is deprecated and will be removed in a future version. To read from a literal string, wrap it in a 'StringIO' object.\n"
     ]
    },
    {
     "name": "stdout",
     "output_type": "stream",
     "text": [
      "Data for 2012 appended to all_player_kicking_data.csv\n",
      "Scraping: [##################                                ] 37.14%"
     ]
    },
    {
     "name": "stderr",
     "output_type": "stream",
     "text": [
      "Passing literal html to 'read_html' is deprecated and will be removed in a future version. To read from a literal string, wrap it in a 'StringIO' object.\n"
     ]
    },
    {
     "name": "stdout",
     "output_type": "stream",
     "text": [
      "Data for 2011 appended to all_player_kicking_data.csv\n",
      "Scraping: [####################                              ] 40.00%"
     ]
    },
    {
     "name": "stderr",
     "output_type": "stream",
     "text": [
      "Passing literal html to 'read_html' is deprecated and will be removed in a future version. To read from a literal string, wrap it in a 'StringIO' object.\n"
     ]
    },
    {
     "name": "stdout",
     "output_type": "stream",
     "text": [
      "Data for 2010 appended to all_player_kicking_data.csv\n",
      "Scraping: [#####################                             ] 42.86%"
     ]
    },
    {
     "name": "stderr",
     "output_type": "stream",
     "text": [
      "Passing literal html to 'read_html' is deprecated and will be removed in a future version. To read from a literal string, wrap it in a 'StringIO' object.\n"
     ]
    },
    {
     "name": "stdout",
     "output_type": "stream",
     "text": [
      "Data for 2009 appended to all_player_kicking_data.csv\n",
      "Scraping: [######################                            ] 45.71%"
     ]
    },
    {
     "name": "stderr",
     "output_type": "stream",
     "text": [
      "Passing literal html to 'read_html' is deprecated and will be removed in a future version. To read from a literal string, wrap it in a 'StringIO' object.\n"
     ]
    },
    {
     "name": "stdout",
     "output_type": "stream",
     "text": [
      "Data for 2008 appended to all_player_kicking_data.csv\n",
      "Scraping: [########################                          ] 48.57%"
     ]
    },
    {
     "name": "stderr",
     "output_type": "stream",
     "text": [
      "Passing literal html to 'read_html' is deprecated and will be removed in a future version. To read from a literal string, wrap it in a 'StringIO' object.\n"
     ]
    },
    {
     "name": "stdout",
     "output_type": "stream",
     "text": [
      "Data for 2007 appended to all_player_kicking_data.csv\n",
      "Scraping: [#########################                         ] 51.43%"
     ]
    },
    {
     "name": "stderr",
     "output_type": "stream",
     "text": [
      "Passing literal html to 'read_html' is deprecated and will be removed in a future version. To read from a literal string, wrap it in a 'StringIO' object.\n"
     ]
    },
    {
     "name": "stdout",
     "output_type": "stream",
     "text": [
      "Data for 2006 appended to all_player_kicking_data.csv\n",
      "Scraping: [###########################                       ] 54.29%"
     ]
    },
    {
     "name": "stderr",
     "output_type": "stream",
     "text": [
      "Passing literal html to 'read_html' is deprecated and will be removed in a future version. To read from a literal string, wrap it in a 'StringIO' object.\n"
     ]
    },
    {
     "name": "stdout",
     "output_type": "stream",
     "text": [
      "Data for 2005 appended to all_player_kicking_data.csv\n",
      "Scraping: [############################                      ] 57.14%"
     ]
    },
    {
     "name": "stderr",
     "output_type": "stream",
     "text": [
      "Passing literal html to 'read_html' is deprecated and will be removed in a future version. To read from a literal string, wrap it in a 'StringIO' object.\n"
     ]
    },
    {
     "name": "stdout",
     "output_type": "stream",
     "text": [
      "Data for 2004 appended to all_player_kicking_data.csv\n",
      "Scraping: [##############################                    ] 60.00%"
     ]
    },
    {
     "name": "stderr",
     "output_type": "stream",
     "text": [
      "Passing literal html to 'read_html' is deprecated and will be removed in a future version. To read from a literal string, wrap it in a 'StringIO' object.\n"
     ]
    },
    {
     "name": "stdout",
     "output_type": "stream",
     "text": [
      "Data for 2003 appended to all_player_kicking_data.csv\n",
      "Scraping: [###############################                   ] 62.86%"
     ]
    },
    {
     "name": "stderr",
     "output_type": "stream",
     "text": [
      "Passing literal html to 'read_html' is deprecated and will be removed in a future version. To read from a literal string, wrap it in a 'StringIO' object.\n"
     ]
    },
    {
     "name": "stdout",
     "output_type": "stream",
     "text": [
      "Data for 2002 appended to all_player_kicking_data.csv\n",
      "Scraping: [################################                  ] 65.71%"
     ]
    },
    {
     "name": "stderr",
     "output_type": "stream",
     "text": [
      "Passing literal html to 'read_html' is deprecated and will be removed in a future version. To read from a literal string, wrap it in a 'StringIO' object.\n"
     ]
    },
    {
     "name": "stdout",
     "output_type": "stream",
     "text": [
      "Data for 2001 appended to all_player_kicking_data.csv\n",
      "Scraping: [##################################                ] 68.57%"
     ]
    },
    {
     "name": "stderr",
     "output_type": "stream",
     "text": [
      "Passing literal html to 'read_html' is deprecated and will be removed in a future version. To read from a literal string, wrap it in a 'StringIO' object.\n"
     ]
    },
    {
     "name": "stdout",
     "output_type": "stream",
     "text": [
      "Data for 2000 appended to all_player_kicking_data.csv\n",
      "Scraping: [###################################               ] 71.43%"
     ]
    },
    {
     "name": "stderr",
     "output_type": "stream",
     "text": [
      "Passing literal html to 'read_html' is deprecated and will be removed in a future version. To read from a literal string, wrap it in a 'StringIO' object.\n"
     ]
    },
    {
     "name": "stdout",
     "output_type": "stream",
     "text": [
      "Data for 1999 appended to all_player_kicking_data.csv\n",
      "Scraping: [#####################################             ] 74.29%"
     ]
    },
    {
     "name": "stderr",
     "output_type": "stream",
     "text": [
      "Passing literal html to 'read_html' is deprecated and will be removed in a future version. To read from a literal string, wrap it in a 'StringIO' object.\n"
     ]
    },
    {
     "name": "stdout",
     "output_type": "stream",
     "text": [
      "Data for 1998 appended to all_player_kicking_data.csv\n",
      "Scraping: [######################################            ] 77.14%"
     ]
    },
    {
     "name": "stderr",
     "output_type": "stream",
     "text": [
      "Passing literal html to 'read_html' is deprecated and will be removed in a future version. To read from a literal string, wrap it in a 'StringIO' object.\n"
     ]
    },
    {
     "name": "stdout",
     "output_type": "stream",
     "text": [
      "Data for 1997 appended to all_player_kicking_data.csv\n",
      "Scraping: [########################################          ] 80.00%"
     ]
    },
    {
     "name": "stderr",
     "output_type": "stream",
     "text": [
      "Passing literal html to 'read_html' is deprecated and will be removed in a future version. To read from a literal string, wrap it in a 'StringIO' object.\n"
     ]
    },
    {
     "name": "stdout",
     "output_type": "stream",
     "text": [
      "Data for 1996 appended to all_player_kicking_data.csv\n",
      "Scraping: [#########################################         ] 82.86%"
     ]
    },
    {
     "name": "stderr",
     "output_type": "stream",
     "text": [
      "Passing literal html to 'read_html' is deprecated and will be removed in a future version. To read from a literal string, wrap it in a 'StringIO' object.\n"
     ]
    },
    {
     "name": "stdout",
     "output_type": "stream",
     "text": [
      "Data for 1995 appended to all_player_kicking_data.csv\n",
      "Scraping: [##########################################        ] 85.71%"
     ]
    },
    {
     "name": "stderr",
     "output_type": "stream",
     "text": [
      "Passing literal html to 'read_html' is deprecated and will be removed in a future version. To read from a literal string, wrap it in a 'StringIO' object.\n"
     ]
    },
    {
     "name": "stdout",
     "output_type": "stream",
     "text": [
      "Data for 1994 appended to all_player_kicking_data.csv\n",
      "Scraping: [############################################      ] 88.57%"
     ]
    },
    {
     "name": "stderr",
     "output_type": "stream",
     "text": [
      "Passing literal html to 'read_html' is deprecated and will be removed in a future version. To read from a literal string, wrap it in a 'StringIO' object.\n"
     ]
    },
    {
     "name": "stdout",
     "output_type": "stream",
     "text": [
      "Data for 1993 appended to all_player_kicking_data.csv\n",
      "Scraping: [#############################################     ] 91.43%"
     ]
    },
    {
     "name": "stderr",
     "output_type": "stream",
     "text": [
      "Passing literal html to 'read_html' is deprecated and will be removed in a future version. To read from a literal string, wrap it in a 'StringIO' object.\n"
     ]
    },
    {
     "name": "stdout",
     "output_type": "stream",
     "text": [
      "Data for 1992 appended to all_player_kicking_data.csv\n",
      "Scraping: [###############################################   ] 94.29%"
     ]
    },
    {
     "name": "stderr",
     "output_type": "stream",
     "text": [
      "Passing literal html to 'read_html' is deprecated and will be removed in a future version. To read from a literal string, wrap it in a 'StringIO' object.\n"
     ]
    },
    {
     "name": "stdout",
     "output_type": "stream",
     "text": [
      "Data for 1991 appended to all_player_kicking_data.csv\n",
      "Scraping: [################################################  ] 97.14%"
     ]
    },
    {
     "name": "stderr",
     "output_type": "stream",
     "text": [
      "Passing literal html to 'read_html' is deprecated and will be removed in a future version. To read from a literal string, wrap it in a 'StringIO' object.\n"
     ]
    },
    {
     "name": "stdout",
     "output_type": "stream",
     "text": [
      "Data for 1990 appended to all_player_kicking_data.csv\n",
      "Scraping: [##################################################] 100.00%\n",
      "Scrapping Done\n"
     ]
    }
   ],
   "source": [
    "import requests\n",
    "from bs4 import BeautifulSoup\n",
    "import pandas as pd\n",
    "import time\n",
    "import sys\n",
    "from pathlib import Path\n",
    "\n",
    "# Function to scrape data from a given season and append it to a CSV file\n",
    "def scrape_season_and_save(season, csv_file):\n",
    "    url = f'https://www.pro-football-reference.com/years/{season}/kicking.htm'\n",
    "    \n",
    "    try:\n",
    "        response = requests.get(url)\n",
    "        response.raise_for_status()  # Raise HTTPError for bad responses\n",
    "    except requests.exceptions.RequestException as e:\n",
    "        print(f\"Failed to retrieve data for {season}. Error: {e}\")\n",
    "        return\n",
    "\n",
    "    soup = BeautifulSoup(response.content, 'html.parser')\n",
    "    table = soup.find('table', {'id': 'kicking'})\n",
    "\n",
    "    if table:\n",
    "        df = pd.read_html(str(table))[0]\n",
    "        df['Season'] = season\n",
    "\n",
    "        if Path(csv_file).exists():\n",
    "            df.to_csv(csv_file, mode='a', header=False, index=False)\n",
    "        else:\n",
    "            df.to_csv(csv_file, header=True, index=False)\n",
    "        \n",
    "        print(f\"Data for {season} appended to {csv_file}\")\n",
    "    else:\n",
    "        print(f\"No table found for {season}\")\n",
    "\n",
    "    time.sleep(10)\n",
    "\n",
    "# Function to iterate through the list of seasons and save all data to a single CSV file\n",
    "def scrape_all_seasons_and_save(start_year, end_year, csv_file):\n",
    "    seasons = range(end_year, start_year - 1, -1)  # Reversed range\n",
    "\n",
    "    total_seasons = len(seasons)\n",
    "\n",
    "    for i, season in enumerate(seasons, 1):\n",
    "        scrape_season_and_save(season, csv_file)\n",
    "\n",
    "        # Print percentage completion bar\n",
    "        completion_percentage = (i / total_seasons) * 100\n",
    "        sys.stdout.write(f\"\\rScraping: [{'#' * int(completion_percentage // 2)}{' ' * (50 - int(completion_percentage // 2))}] {completion_percentage:.2f}%\")\n",
    "        sys.stdout.flush()\n",
    "\n",
    "    # Print \"Scrapping Done\" and clear progress bar\n",
    "    print(\"\\nScrapping Done\")\n",
    "    sys.stdout.flush()\n",
    "\n",
    "# Specify the CSV file to save all scraped data\n",
    "csv_file_path = 'all_player_kicking_data.csv'\n",
    "\n",
    "# Call the function to scrape all seasons from 1990 to 2023 and save all data to a single CSV file\n",
    "scrape_all_seasons_and_save(1990, 2024, csv_file_path)"
   ]
  }
 ],
 "metadata": {
  "kernelspec": {
   "display_name": "Python 3 (ipykernel)",
   "language": "python",
   "name": "python3"
  },
  "language_info": {
   "codemirror_mode": {
    "name": "ipython",
    "version": 3
   },
   "file_extension": ".py",
   "mimetype": "text/x-python",
   "name": "python",
   "nbconvert_exporter": "python",
   "pygments_lexer": "ipython3",
   "version": "3.11.5"
  }
 },
 "nbformat": 4,
 "nbformat_minor": 5
}
